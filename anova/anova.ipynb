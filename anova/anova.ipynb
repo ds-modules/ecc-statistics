{
 "cells": [
  {
   "cell_type": "markdown",
   "id": "280fd3df-d527-44d2-b512-8939c6fdb2f9",
   "metadata": {},
   "source": [
    "# ANOVA"
   ]
  },
  {
   "cell_type": "markdown",
   "id": "bd5b0640-fedf-4c9d-9e68-fc8ec1f4c7d6",
   "metadata": {},
   "source": [
    "**Estimated Time**: 60 Minutes <br>\n",
    "**Developers**: James Geronimo, Mark Barranda"
   ]
  },
  {
   "cell_type": "markdown",
   "id": "979c5802-571e-4c4b-81cb-647b595178e1",
   "metadata": {},
   "source": [
    "## Table of Contents"
   ]
  },
  {
   "cell_type": "markdown",
   "id": "df662679-5e4c-47c5-b16e-303a455d1132",
   "metadata": {},
   "source": [
    "1. Introduction <br>\n",
    "    1.1. Learning Objectives <br>\n",
    "    1.2. Understanding ANOVA <br>\n",
    "    1.3. Setup <br>\n",
    "2. Data Preparation <br>\n",
    "    2.1. Loading the Data <br>\n",
    "    2.2. Choosing the Right Columns <br>\n",
    "    2.3. Filtering the Data  <br>\n",
    "3. Visualizing the Data <br>\n",
    "    3.1. Box Plots <br>\n",
    "    3.2. Violin Plots <br>\n",
    "    3.3. Histograms <br>\n",
    "4. Performing ANOVA <br>\n",
    "    4.1. Group Means and Overall Mean <br>\n",
    "    4.2. Between-Group Sum of Squares (SSB) <br>\n",
    "    4.3. Within-Group Sum of Squares (SSW) <br>\n",
    "    4.4. Degrees of Freedom <br>\n",
    "    4.5. Mean Squares (MSB, MSW) <br>\n",
    "    4.6. F-Statistic <br>\n",
    "    4.7. p-value <br>\n",
    "5. Sanity Check using SciPy <br>\n",
    "6. Penguins Sandbox <br>\n",
    "    6.1. Loading the Data <br>\n",
    "    6.2. Exploring Variable Distributions <br>\n",
    "    6.3. Performing ANOVA <br>\n",
    "7. Conclusion"
   ]
  },
  {
   "cell_type": "markdown",
   "id": "fdd7f61c-f63d-4c19-a261-61645b5b6fe1",
   "metadata": {},
   "source": [
    "## Deliverables"
   ]
  },
  {
   "cell_type": "markdown",
   "id": "abf709f2-96a9-4cac-ac56-743f8debec85",
   "metadata": {},
   "source": [
    "Throughout the notebook, there will be free-response questions! For each question, fill in your answer in the corresponding `Markdown` cell that says *Your Answer Here*. Please make sure to respond to each of the following questions, as they will be **graded**:\n",
    "\n",
    "2. Data Preparation <br>\n",
    "    **Question 2.3.1.** <br>\n",
    "    **Question 2.3.2.** <br>\n",
    "    **Question 2.3.3.** <br>\n",
    "3. Visualizing the Data <br>\n",
    "    **Question 3.1.** <br>\n",
    "    **Question 3.2.** <br>\n",
    "    **Question 3.3.1.** <br>\n",
    "    **Question 3.3.2.** <br>\n",
    "    **Question 3.3.3.** <br>\n",
    "4. Performing ANOVA <br>\n",
    "    **Question 4.6.** <br>\n",
    "    **Question 4.7.** <br>\n",
    "6. Penguins Sandbox <br>\n",
    "    **Question 6.2.** <br>\n",
    "    **Question 6.3.**"
   ]
  },
  {
   "cell_type": "markdown",
   "id": "8960bde5-c558-45ee-9ce6-432b823d65f5",
   "metadata": {},
   "source": [
    "---"
   ]
  },
  {
   "cell_type": "markdown",
   "id": "a83989b1-c32f-4eba-ac49-039494dc1a7f",
   "metadata": {},
   "source": [
    "## 1. Introduction"
   ]
  },
  {
   "cell_type": "markdown",
   "id": "b7ed8477-c823-419e-b665-29c8eb4e44f9",
   "metadata": {},
   "source": [
    "### 1.1. Learning Objectives"
   ]
  },
  {
   "cell_type": "markdown",
   "id": "cb4f46fd-7b47-4e83-9895-3a9649081a7c",
   "metadata": {},
   "source": [
    "Understanding how to compare multiple groups statistically is crucial in data analysis. We will learn to apply **ANOVA** to analyze housing prices and penguin attributes. In this notebook, you will:\n",
    "- Understand when it is appropriate to use ANOVA\n",
    "- Visualize housing price differences across different groups\n",
    "- Learn how to manually compute ANOVA step-by-step\n",
    "- Use SciPy’s `stats.f_oneway` as a sanity check\n",
    "- Apply these techniques to the Palmer Penguins dataset"
   ]
  },
  {
   "cell_type": "markdown",
   "id": "22550ae7-fad7-4230-a09c-1b98e415d5ba",
   "metadata": {},
   "source": [
    "### 1.2. Understanding ANOVA"
   ]
  },
  {
   "cell_type": "markdown",
   "id": "bd4d0e77-ccd1-474d-b5ce-3eee6d0d9916",
   "metadata": {},
   "source": [
    "What is the motivation for using **An**alysis **O**f **Va**riance, a.k.a. **ANOVA**, over a traditional Two-Mean Test? ANOVA is used when comparing **more than two groups**. More specfically, when comparing multiple groups, a series of two-sample t-tests is inefficient and increases the risk of Type I errors (false positives). ANOVA allows us to compare **more than two groups** in a single test. ANOVA checks whether the means of different groups are significantly different by comparing within-group and between-group variability.\n",
    "\n",
    "We will explore **comparing house prices across different neighborhoods** in our dataset. In order to run an ANOVA test in the first place, there are three assumptions that need to be made:\n",
    "\n",
    "1. **Normality:** The populations follow a normal distribution.\n",
    "2. **Homogeneity of Variance:** Variances across groups are equal.\n",
    "3. **Independence:** Observations are independent of each other.\n",
    "\n",
    "For the sake of this module, we will assume that these three assumptions are true."
   ]
  },
  {
   "cell_type": "markdown",
   "id": "0900d202-38f3-484d-83ee-e29ed9bbfec1",
   "metadata": {},
   "source": [
    "### 1.3. Setup"
   ]
  },
  {
   "cell_type": "markdown",
   "id": "909066b2-b390-4094-9e5d-662d9021763c",
   "metadata": {},
   "source": [
    "Below, we have imported some Python libraries that are necessary for this module. Make sure to run this cell before running any other code cells!"
   ]
  },
  {
   "cell_type": "code",
   "execution_count": 1,
   "id": "0394f20e-4ffb-446a-b9c7-d81e8315e803",
   "metadata": {},
   "outputs": [],
   "source": [
    "import numpy as np\n",
    "import pandas as pd\n",
    "import scipy.stats as stats\n",
    "\n",
    "import matplotlib.pyplot as plt\n",
    "plt.style.use('fivethirtyeight')\n",
    "import seaborn as sns\n",
    "import plotly.express as px\n",
    "import plotly.graph_objects as go\n",
    "\n",
    "import ipywidgets as widgets\n",
    "from utils import *"
   ]
  },
  {
   "cell_type": "markdown",
   "id": "9c4f5f32-d5cc-4ebc-adba-8d0a2b384df8",
   "metadata": {},
   "source": [
    "---"
   ]
  },
  {
   "cell_type": "markdown",
   "id": "1f2b9e5a-49a9-4121-a76f-78e644dc784e",
   "metadata": {},
   "source": [
    "## 2. Data Preparation"
   ]
  },
  {
   "cell_type": "markdown",
   "id": "5765f315-7de4-46dc-9569-964376fe4e34",
   "metadata": {},
   "source": [
    "### 2.1. Loading the Data"
   ]
  },
  {
   "cell_type": "markdown",
   "id": "03dbc6ad-5c22-4011-8056-a38ce2502cb1",
   "metadata": {},
   "source": [
    "Let's first load our data in a `DataFrame` object named `ames`. We do this by using the `read_csv` function from the `pandas` library. We then use `head(10)` to see the first 10 rows of the data. In other words, we view the \"head\" of the data. Additionally, we print the `columns` variable to see all the features present in our dataset."
   ]
  },
  {
   "cell_type": "code",
   "execution_count": 2,
   "id": "442ccf20-1a9c-45c5-91c6-9b85f070f6c6",
   "metadata": {},
   "outputs": [
    {
     "data": {
      "text/html": [
       "<div>\n",
       "<style scoped>\n",
       "    .dataframe tbody tr th:only-of-type {\n",
       "        vertical-align: middle;\n",
       "    }\n",
       "\n",
       "    .dataframe tbody tr th {\n",
       "        vertical-align: top;\n",
       "    }\n",
       "\n",
       "    .dataframe thead th {\n",
       "        text-align: right;\n",
       "    }\n",
       "</style>\n",
       "<table border=\"1\" class=\"dataframe\">\n",
       "  <thead>\n",
       "    <tr style=\"text-align: right;\">\n",
       "      <th></th>\n",
       "      <th>Order</th>\n",
       "      <th>PID</th>\n",
       "      <th>MS SubClass</th>\n",
       "      <th>MS Zoning</th>\n",
       "      <th>Lot Frontage</th>\n",
       "      <th>Lot Area</th>\n",
       "      <th>Street</th>\n",
       "      <th>Alley</th>\n",
       "      <th>Lot Shape</th>\n",
       "      <th>Land Contour</th>\n",
       "      <th>...</th>\n",
       "      <th>Pool Area</th>\n",
       "      <th>Pool QC</th>\n",
       "      <th>Fence</th>\n",
       "      <th>Misc Feature</th>\n",
       "      <th>Misc Val</th>\n",
       "      <th>Mo Sold</th>\n",
       "      <th>Yr Sold</th>\n",
       "      <th>Sale Type</th>\n",
       "      <th>Sale Condition</th>\n",
       "      <th>SalePrice</th>\n",
       "    </tr>\n",
       "  </thead>\n",
       "  <tbody>\n",
       "    <tr>\n",
       "      <th>0</th>\n",
       "      <td>1</td>\n",
       "      <td>526301100</td>\n",
       "      <td>20</td>\n",
       "      <td>RL</td>\n",
       "      <td>141.0</td>\n",
       "      <td>31770</td>\n",
       "      <td>Pave</td>\n",
       "      <td>NaN</td>\n",
       "      <td>IR1</td>\n",
       "      <td>Lvl</td>\n",
       "      <td>...</td>\n",
       "      <td>0</td>\n",
       "      <td>NaN</td>\n",
       "      <td>NaN</td>\n",
       "      <td>NaN</td>\n",
       "      <td>0</td>\n",
       "      <td>5</td>\n",
       "      <td>2010</td>\n",
       "      <td>WD</td>\n",
       "      <td>Normal</td>\n",
       "      <td>215000</td>\n",
       "    </tr>\n",
       "    <tr>\n",
       "      <th>1</th>\n",
       "      <td>2</td>\n",
       "      <td>526350040</td>\n",
       "      <td>20</td>\n",
       "      <td>RH</td>\n",
       "      <td>80.0</td>\n",
       "      <td>11622</td>\n",
       "      <td>Pave</td>\n",
       "      <td>NaN</td>\n",
       "      <td>Reg</td>\n",
       "      <td>Lvl</td>\n",
       "      <td>...</td>\n",
       "      <td>0</td>\n",
       "      <td>NaN</td>\n",
       "      <td>MnPrv</td>\n",
       "      <td>NaN</td>\n",
       "      <td>0</td>\n",
       "      <td>6</td>\n",
       "      <td>2010</td>\n",
       "      <td>WD</td>\n",
       "      <td>Normal</td>\n",
       "      <td>105000</td>\n",
       "    </tr>\n",
       "    <tr>\n",
       "      <th>2</th>\n",
       "      <td>3</td>\n",
       "      <td>526351010</td>\n",
       "      <td>20</td>\n",
       "      <td>RL</td>\n",
       "      <td>81.0</td>\n",
       "      <td>14267</td>\n",
       "      <td>Pave</td>\n",
       "      <td>NaN</td>\n",
       "      <td>IR1</td>\n",
       "      <td>Lvl</td>\n",
       "      <td>...</td>\n",
       "      <td>0</td>\n",
       "      <td>NaN</td>\n",
       "      <td>NaN</td>\n",
       "      <td>Gar2</td>\n",
       "      <td>12500</td>\n",
       "      <td>6</td>\n",
       "      <td>2010</td>\n",
       "      <td>WD</td>\n",
       "      <td>Normal</td>\n",
       "      <td>172000</td>\n",
       "    </tr>\n",
       "    <tr>\n",
       "      <th>3</th>\n",
       "      <td>4</td>\n",
       "      <td>526353030</td>\n",
       "      <td>20</td>\n",
       "      <td>RL</td>\n",
       "      <td>93.0</td>\n",
       "      <td>11160</td>\n",
       "      <td>Pave</td>\n",
       "      <td>NaN</td>\n",
       "      <td>Reg</td>\n",
       "      <td>Lvl</td>\n",
       "      <td>...</td>\n",
       "      <td>0</td>\n",
       "      <td>NaN</td>\n",
       "      <td>NaN</td>\n",
       "      <td>NaN</td>\n",
       "      <td>0</td>\n",
       "      <td>4</td>\n",
       "      <td>2010</td>\n",
       "      <td>WD</td>\n",
       "      <td>Normal</td>\n",
       "      <td>244000</td>\n",
       "    </tr>\n",
       "    <tr>\n",
       "      <th>4</th>\n",
       "      <td>5</td>\n",
       "      <td>527105010</td>\n",
       "      <td>60</td>\n",
       "      <td>RL</td>\n",
       "      <td>74.0</td>\n",
       "      <td>13830</td>\n",
       "      <td>Pave</td>\n",
       "      <td>NaN</td>\n",
       "      <td>IR1</td>\n",
       "      <td>Lvl</td>\n",
       "      <td>...</td>\n",
       "      <td>0</td>\n",
       "      <td>NaN</td>\n",
       "      <td>MnPrv</td>\n",
       "      <td>NaN</td>\n",
       "      <td>0</td>\n",
       "      <td>3</td>\n",
       "      <td>2010</td>\n",
       "      <td>WD</td>\n",
       "      <td>Normal</td>\n",
       "      <td>189900</td>\n",
       "    </tr>\n",
       "    <tr>\n",
       "      <th>5</th>\n",
       "      <td>6</td>\n",
       "      <td>527105030</td>\n",
       "      <td>60</td>\n",
       "      <td>RL</td>\n",
       "      <td>78.0</td>\n",
       "      <td>9978</td>\n",
       "      <td>Pave</td>\n",
       "      <td>NaN</td>\n",
       "      <td>IR1</td>\n",
       "      <td>Lvl</td>\n",
       "      <td>...</td>\n",
       "      <td>0</td>\n",
       "      <td>NaN</td>\n",
       "      <td>NaN</td>\n",
       "      <td>NaN</td>\n",
       "      <td>0</td>\n",
       "      <td>6</td>\n",
       "      <td>2010</td>\n",
       "      <td>WD</td>\n",
       "      <td>Normal</td>\n",
       "      <td>195500</td>\n",
       "    </tr>\n",
       "    <tr>\n",
       "      <th>6</th>\n",
       "      <td>7</td>\n",
       "      <td>527127150</td>\n",
       "      <td>120</td>\n",
       "      <td>RL</td>\n",
       "      <td>41.0</td>\n",
       "      <td>4920</td>\n",
       "      <td>Pave</td>\n",
       "      <td>NaN</td>\n",
       "      <td>Reg</td>\n",
       "      <td>Lvl</td>\n",
       "      <td>...</td>\n",
       "      <td>0</td>\n",
       "      <td>NaN</td>\n",
       "      <td>NaN</td>\n",
       "      <td>NaN</td>\n",
       "      <td>0</td>\n",
       "      <td>4</td>\n",
       "      <td>2010</td>\n",
       "      <td>WD</td>\n",
       "      <td>Normal</td>\n",
       "      <td>213500</td>\n",
       "    </tr>\n",
       "    <tr>\n",
       "      <th>7</th>\n",
       "      <td>8</td>\n",
       "      <td>527145080</td>\n",
       "      <td>120</td>\n",
       "      <td>RL</td>\n",
       "      <td>43.0</td>\n",
       "      <td>5005</td>\n",
       "      <td>Pave</td>\n",
       "      <td>NaN</td>\n",
       "      <td>IR1</td>\n",
       "      <td>HLS</td>\n",
       "      <td>...</td>\n",
       "      <td>0</td>\n",
       "      <td>NaN</td>\n",
       "      <td>NaN</td>\n",
       "      <td>NaN</td>\n",
       "      <td>0</td>\n",
       "      <td>1</td>\n",
       "      <td>2010</td>\n",
       "      <td>WD</td>\n",
       "      <td>Normal</td>\n",
       "      <td>191500</td>\n",
       "    </tr>\n",
       "    <tr>\n",
       "      <th>8</th>\n",
       "      <td>9</td>\n",
       "      <td>527146030</td>\n",
       "      <td>120</td>\n",
       "      <td>RL</td>\n",
       "      <td>39.0</td>\n",
       "      <td>5389</td>\n",
       "      <td>Pave</td>\n",
       "      <td>NaN</td>\n",
       "      <td>IR1</td>\n",
       "      <td>Lvl</td>\n",
       "      <td>...</td>\n",
       "      <td>0</td>\n",
       "      <td>NaN</td>\n",
       "      <td>NaN</td>\n",
       "      <td>NaN</td>\n",
       "      <td>0</td>\n",
       "      <td>3</td>\n",
       "      <td>2010</td>\n",
       "      <td>WD</td>\n",
       "      <td>Normal</td>\n",
       "      <td>236500</td>\n",
       "    </tr>\n",
       "    <tr>\n",
       "      <th>9</th>\n",
       "      <td>10</td>\n",
       "      <td>527162130</td>\n",
       "      <td>60</td>\n",
       "      <td>RL</td>\n",
       "      <td>60.0</td>\n",
       "      <td>7500</td>\n",
       "      <td>Pave</td>\n",
       "      <td>NaN</td>\n",
       "      <td>Reg</td>\n",
       "      <td>Lvl</td>\n",
       "      <td>...</td>\n",
       "      <td>0</td>\n",
       "      <td>NaN</td>\n",
       "      <td>NaN</td>\n",
       "      <td>NaN</td>\n",
       "      <td>0</td>\n",
       "      <td>6</td>\n",
       "      <td>2010</td>\n",
       "      <td>WD</td>\n",
       "      <td>Normal</td>\n",
       "      <td>189000</td>\n",
       "    </tr>\n",
       "  </tbody>\n",
       "</table>\n",
       "<p>10 rows × 82 columns</p>\n",
       "</div>"
      ],
      "text/plain": [
       "   Order        PID  MS SubClass MS Zoning  Lot Frontage  Lot Area Street  \\\n",
       "0      1  526301100           20        RL         141.0     31770   Pave   \n",
       "1      2  526350040           20        RH          80.0     11622   Pave   \n",
       "2      3  526351010           20        RL          81.0     14267   Pave   \n",
       "3      4  526353030           20        RL          93.0     11160   Pave   \n",
       "4      5  527105010           60        RL          74.0     13830   Pave   \n",
       "5      6  527105030           60        RL          78.0      9978   Pave   \n",
       "6      7  527127150          120        RL          41.0      4920   Pave   \n",
       "7      8  527145080          120        RL          43.0      5005   Pave   \n",
       "8      9  527146030          120        RL          39.0      5389   Pave   \n",
       "9     10  527162130           60        RL          60.0      7500   Pave   \n",
       "\n",
       "  Alley Lot Shape Land Contour  ... Pool Area Pool QC  Fence Misc Feature  \\\n",
       "0   NaN       IR1          Lvl  ...         0     NaN    NaN          NaN   \n",
       "1   NaN       Reg          Lvl  ...         0     NaN  MnPrv          NaN   \n",
       "2   NaN       IR1          Lvl  ...         0     NaN    NaN         Gar2   \n",
       "3   NaN       Reg          Lvl  ...         0     NaN    NaN          NaN   \n",
       "4   NaN       IR1          Lvl  ...         0     NaN  MnPrv          NaN   \n",
       "5   NaN       IR1          Lvl  ...         0     NaN    NaN          NaN   \n",
       "6   NaN       Reg          Lvl  ...         0     NaN    NaN          NaN   \n",
       "7   NaN       IR1          HLS  ...         0     NaN    NaN          NaN   \n",
       "8   NaN       IR1          Lvl  ...         0     NaN    NaN          NaN   \n",
       "9   NaN       Reg          Lvl  ...         0     NaN    NaN          NaN   \n",
       "\n",
       "  Misc Val Mo Sold Yr Sold Sale Type  Sale Condition  SalePrice  \n",
       "0        0       5    2010       WD           Normal     215000  \n",
       "1        0       6    2010       WD           Normal     105000  \n",
       "2    12500       6    2010       WD           Normal     172000  \n",
       "3        0       4    2010       WD           Normal     244000  \n",
       "4        0       3    2010       WD           Normal     189900  \n",
       "5        0       6    2010       WD           Normal     195500  \n",
       "6        0       4    2010       WD           Normal     213500  \n",
       "7        0       1    2010       WD           Normal     191500  \n",
       "8        0       3    2010       WD           Normal     236500  \n",
       "9        0       6    2010       WD           Normal     189000  \n",
       "\n",
       "[10 rows x 82 columns]"
      ]
     },
     "metadata": {},
     "output_type": "display_data"
    },
    {
     "name": "stdout",
     "output_type": "stream",
     "text": [
      "Index(['Order', 'PID', 'MS SubClass', 'MS Zoning', 'Lot Frontage', 'Lot Area',\n",
      "       'Street', 'Alley', 'Lot Shape', 'Land Contour', 'Utilities',\n",
      "       'Lot Config', 'Land Slope', 'Neighborhood', 'Condition 1',\n",
      "       'Condition 2', 'Bldg Type', 'House Style', 'Overall Qual',\n",
      "       'Overall Cond', 'Year Built', 'Year Remod/Add', 'Roof Style',\n",
      "       'Roof Matl', 'Exterior 1st', 'Exterior 2nd', 'Mas Vnr Type',\n",
      "       'Mas Vnr Area', 'Exter Qual', 'Exter Cond', 'Foundation', 'Bsmt Qual',\n",
      "       'Bsmt Cond', 'Bsmt Exposure', 'BsmtFin Type 1', 'BsmtFin SF 1',\n",
      "       'BsmtFin Type 2', 'BsmtFin SF 2', 'Bsmt Unf SF', 'Total Bsmt SF',\n",
      "       'Heating', 'Heating QC', 'Central Air', 'Electrical', '1st Flr SF',\n",
      "       '2nd Flr SF', 'Low Qual Fin SF', 'Gr Liv Area', 'Bsmt Full Bath',\n",
      "       'Bsmt Half Bath', 'Full Bath', 'Half Bath', 'Bedroom AbvGr',\n",
      "       'Kitchen AbvGr', 'Kitchen Qual', 'TotRms AbvGrd', 'Functional',\n",
      "       'Fireplaces', 'Fireplace Qu', 'Garage Type', 'Garage Yr Blt',\n",
      "       'Garage Finish', 'Garage Cars', 'Garage Area', 'Garage Qual',\n",
      "       'Garage Cond', 'Paved Drive', 'Wood Deck SF', 'Open Porch SF',\n",
      "       'Enclosed Porch', '3Ssn Porch', 'Screen Porch', 'Pool Area', 'Pool QC',\n",
      "       'Fence', 'Misc Feature', 'Misc Val', 'Mo Sold', 'Yr Sold', 'Sale Type',\n",
      "       'Sale Condition', 'SalePrice'],\n",
      "      dtype='object')\n"
     ]
    }
   ],
   "source": [
    "# Load the dataset and print the columns\n",
    "ames = pd.read_csv(\"ames.csv\")\n",
    "display(ames.head(10))\n",
    "print(ames.columns)"
   ]
  },
  {
   "cell_type": "markdown",
   "id": "d10e1bf2-6b30-491d-bdbe-17db745baad1",
   "metadata": {},
   "source": [
    "### 2.2. Choosing the Right Columns"
   ]
  },
  {
   "cell_type": "markdown",
   "id": "fe2a3609-a0a1-4719-80a1-e7cd673ee790",
   "metadata": {},
   "source": [
    "Wow, that's a lot of columns to work with! While there are cool features like `\"Garage Finish\"` and `\"Wood Deck SF\"`, our analysis is primarily focused on understanding how house prices vary by neighborhood. Thus, we are only interested in two columns, namely, `\"Neighborhood\"` and `\"SalePrice\"`, so let's go ahead and index into these two columns and update our `ames` `DataFrame`. We will also print the shape of this filtered `DataFrame` to get a better idea of the data we are working with."
   ]
  },
  {
   "cell_type": "code",
   "execution_count": 3,
   "id": "d59b27da-65ab-49eb-8e78-d378b8ccc90b",
   "metadata": {},
   "outputs": [
    {
     "data": {
      "text/html": [
       "<div>\n",
       "<style scoped>\n",
       "    .dataframe tbody tr th:only-of-type {\n",
       "        vertical-align: middle;\n",
       "    }\n",
       "\n",
       "    .dataframe tbody tr th {\n",
       "        vertical-align: top;\n",
       "    }\n",
       "\n",
       "    .dataframe thead th {\n",
       "        text-align: right;\n",
       "    }\n",
       "</style>\n",
       "<table border=\"1\" class=\"dataframe\">\n",
       "  <thead>\n",
       "    <tr style=\"text-align: right;\">\n",
       "      <th></th>\n",
       "      <th>Neighborhood</th>\n",
       "      <th>SalePrice</th>\n",
       "    </tr>\n",
       "  </thead>\n",
       "  <tbody>\n",
       "    <tr>\n",
       "      <th>0</th>\n",
       "      <td>NAmes</td>\n",
       "      <td>215000</td>\n",
       "    </tr>\n",
       "    <tr>\n",
       "      <th>1</th>\n",
       "      <td>NAmes</td>\n",
       "      <td>105000</td>\n",
       "    </tr>\n",
       "    <tr>\n",
       "      <th>2</th>\n",
       "      <td>NAmes</td>\n",
       "      <td>172000</td>\n",
       "    </tr>\n",
       "    <tr>\n",
       "      <th>3</th>\n",
       "      <td>NAmes</td>\n",
       "      <td>244000</td>\n",
       "    </tr>\n",
       "    <tr>\n",
       "      <th>4</th>\n",
       "      <td>Gilbert</td>\n",
       "      <td>189900</td>\n",
       "    </tr>\n",
       "    <tr>\n",
       "      <th>5</th>\n",
       "      <td>Gilbert</td>\n",
       "      <td>195500</td>\n",
       "    </tr>\n",
       "    <tr>\n",
       "      <th>6</th>\n",
       "      <td>StoneBr</td>\n",
       "      <td>213500</td>\n",
       "    </tr>\n",
       "    <tr>\n",
       "      <th>7</th>\n",
       "      <td>StoneBr</td>\n",
       "      <td>191500</td>\n",
       "    </tr>\n",
       "    <tr>\n",
       "      <th>8</th>\n",
       "      <td>StoneBr</td>\n",
       "      <td>236500</td>\n",
       "    </tr>\n",
       "    <tr>\n",
       "      <th>9</th>\n",
       "      <td>Gilbert</td>\n",
       "      <td>189000</td>\n",
       "    </tr>\n",
       "  </tbody>\n",
       "</table>\n",
       "</div>"
      ],
      "text/plain": [
       "  Neighborhood  SalePrice\n",
       "0        NAmes     215000\n",
       "1        NAmes     105000\n",
       "2        NAmes     172000\n",
       "3        NAmes     244000\n",
       "4      Gilbert     189900\n",
       "5      Gilbert     195500\n",
       "6      StoneBr     213500\n",
       "7      StoneBr     191500\n",
       "8      StoneBr     236500\n",
       "9      Gilbert     189000"
      ]
     },
     "metadata": {},
     "output_type": "display_data"
    },
    {
     "name": "stdout",
     "output_type": "stream",
     "text": [
      "(2930, 2)\n"
     ]
    }
   ],
   "source": [
    "# Select relevant columns\n",
    "ames = ames[[\"Neighborhood\", \"SalePrice\"]]\n",
    "display(ames.head(10))\n",
    "print(ames.shape)"
   ]
  },
  {
   "cell_type": "markdown",
   "id": "138312bf-cbe3-4a0a-aae4-c14545984942",
   "metadata": {},
   "source": [
    "### 2.3. Filtering the Data"
   ]
  },
  {
   "cell_type": "markdown",
   "id": "3b6a8083-6004-4bbb-8484-f7685e0197f7",
   "metadata": {},
   "source": [
    "We now need to ensure that our analysis focuses on neighborhoods with a sufficient number of observations. If a neighborhood has too few sales recorded, it may introduce statistical noise or lead to unreliable conclusions.\n",
    "\n",
    "We start by calculating how many times each neighborhood appears in our dataset using the `value_counts` function. This provides a count of sales transactions per neighborhood. Next, we define a threshold to filter out neighborhoods with very few observations. In this case, we keep only neighborhoods with more than 50 recorded sales. This step helps ensure that our statistical tests have adequate sample sizes for meaningful comparisons. Finally, we update our `ames` DataFrame to retain only the neighborhoods that meet our threshold using `isin(selected_neighborhoods)` to filter rows where the `\"Neighborhood\"` column matches one of the selected values."
   ]
  },
  {
   "cell_type": "code",
   "execution_count": 4,
   "id": "cf5217b6-228b-440a-a0aa-d6277e3856a8",
   "metadata": {},
   "outputs": [
    {
     "data": {
      "text/html": [
       "<div>\n",
       "<style scoped>\n",
       "    .dataframe tbody tr th:only-of-type {\n",
       "        vertical-align: middle;\n",
       "    }\n",
       "\n",
       "    .dataframe tbody tr th {\n",
       "        vertical-align: top;\n",
       "    }\n",
       "\n",
       "    .dataframe thead th {\n",
       "        text-align: right;\n",
       "    }\n",
       "</style>\n",
       "<table border=\"1\" class=\"dataframe\">\n",
       "  <thead>\n",
       "    <tr style=\"text-align: right;\">\n",
       "      <th></th>\n",
       "      <th>Neighborhood</th>\n",
       "      <th>SalePrice</th>\n",
       "    </tr>\n",
       "  </thead>\n",
       "  <tbody>\n",
       "    <tr>\n",
       "      <th>0</th>\n",
       "      <td>NAmes</td>\n",
       "      <td>215000</td>\n",
       "    </tr>\n",
       "    <tr>\n",
       "      <th>1</th>\n",
       "      <td>NAmes</td>\n",
       "      <td>105000</td>\n",
       "    </tr>\n",
       "    <tr>\n",
       "      <th>2</th>\n",
       "      <td>NAmes</td>\n",
       "      <td>172000</td>\n",
       "    </tr>\n",
       "    <tr>\n",
       "      <th>3</th>\n",
       "      <td>NAmes</td>\n",
       "      <td>244000</td>\n",
       "    </tr>\n",
       "    <tr>\n",
       "      <th>4</th>\n",
       "      <td>Gilbert</td>\n",
       "      <td>189900</td>\n",
       "    </tr>\n",
       "    <tr>\n",
       "      <th>...</th>\n",
       "      <td>...</td>\n",
       "      <td>...</td>\n",
       "    </tr>\n",
       "    <tr>\n",
       "      <th>2925</th>\n",
       "      <td>Mitchel</td>\n",
       "      <td>142500</td>\n",
       "    </tr>\n",
       "    <tr>\n",
       "      <th>2926</th>\n",
       "      <td>Mitchel</td>\n",
       "      <td>131000</td>\n",
       "    </tr>\n",
       "    <tr>\n",
       "      <th>2927</th>\n",
       "      <td>Mitchel</td>\n",
       "      <td>132000</td>\n",
       "    </tr>\n",
       "    <tr>\n",
       "      <th>2928</th>\n",
       "      <td>Mitchel</td>\n",
       "      <td>170000</td>\n",
       "    </tr>\n",
       "    <tr>\n",
       "      <th>2929</th>\n",
       "      <td>Mitchel</td>\n",
       "      <td>188000</td>\n",
       "    </tr>\n",
       "  </tbody>\n",
       "</table>\n",
       "<p>2675 rows × 2 columns</p>\n",
       "</div>"
      ],
      "text/plain": [
       "     Neighborhood  SalePrice\n",
       "0           NAmes     215000\n",
       "1           NAmes     105000\n",
       "2           NAmes     172000\n",
       "3           NAmes     244000\n",
       "4         Gilbert     189900\n",
       "...           ...        ...\n",
       "2925      Mitchel     142500\n",
       "2926      Mitchel     131000\n",
       "2927      Mitchel     132000\n",
       "2928      Mitchel     170000\n",
       "2929      Mitchel     188000\n",
       "\n",
       "[2675 rows x 2 columns]"
      ]
     },
     "execution_count": 4,
     "metadata": {},
     "output_type": "execute_result"
    }
   ],
   "source": [
    "# Filter neighborhoods with enough data\n",
    "neighborhood_counts = ames[\"Neighborhood\"].value_counts()\n",
    "selected_neighborhoods = neighborhood_counts[neighborhood_counts > 50].index\n",
    "ames = ames[ames[\"Neighborhood\"].isin(selected_neighborhoods)]\n",
    "ames"
   ]
  },
  {
   "cell_type": "markdown",
   "id": "6de99754-ab01-4679-9b7a-b0ab4becee14",
   "metadata": {},
   "source": [
    "**Question 2.3.1.** We set a threshold of 50 sales when filtering neighborhoods. What could happen if we included all neighborhoods, even those with very few observations?"
   ]
  },
  {
   "cell_type": "markdown",
   "id": "fbfef5cd-b330-4429-b360-9f7dba6a5c57",
   "metadata": {},
   "source": [
    "*Your Answer Here*"
   ]
  },
  {
   "cell_type": "markdown",
   "id": "fe12a211-d4b8-4a2f-966e-0810aedc504b",
   "metadata": {},
   "source": [
    "**Question 2.3.2.** If we increased the threshold from 50 to 100, how might that affect our analysis? Would we be gaining accuracy or losing valuable data?"
   ]
  },
  {
   "cell_type": "markdown",
   "id": "a587a1e2-a369-45ea-9e82-b9cd3272ff17",
   "metadata": {},
   "source": [
    "*Your Answer Here*"
   ]
  },
  {
   "cell_type": "markdown",
   "id": "c78a17f4-f951-4517-9aaa-1d714fe8aea8",
   "metadata": {},
   "source": [
    "**Question 2.3.3.** What are some potential risks of excluding data from neighborhoods with few sales? What bias might this introduce in our results?"
   ]
  },
  {
   "cell_type": "markdown",
   "id": "621f37b0-e68b-48c5-a51e-afbd03a9b77e",
   "metadata": {},
   "source": [
    "*Your Answer Here*"
   ]
  },
  {
   "cell_type": "markdown",
   "id": "9b182f34-84d2-4300-b9f6-b553bbcc42a6",
   "metadata": {},
   "source": [
    "---"
   ]
  },
  {
   "cell_type": "markdown",
   "id": "40f4ea4c-6ea1-448d-b0c9-8a1e08f7e530",
   "metadata": {},
   "source": [
    "## 3. Visualizing the Data"
   ]
  },
  {
   "cell_type": "markdown",
   "id": "078d3c65-7b08-475c-93d9-93d62bab98fe",
   "metadata": {},
   "source": [
    "### 3.1. Box Plots "
   ]
  },
  {
   "cell_type": "markdown",
   "id": "eade9d9f-7e58-44fe-970a-e0971ef82bab",
   "metadata": {},
   "source": [
    "Before conducting statistical tests, it’s important to explore the data visually. This helps us understand the distribution of house prices across neighborhoods and check for variability between groups. Generating box plots are a great way to summarize key aspects of the data, such as median prices, interquartile ranges (IQR), and potential outliers in each neighborhood.\n",
    "\n",
    "We've abstracted away the code used to generate the plots you will see in this section, but if you're curious they can all be found in `utils.py`! We've also split the box plots in two, so the first half is the top 8 neighborhoods by average sale price, and the second half is the other 9."
   ]
  },
  {
   "cell_type": "code",
   "execution_count": 5,
   "id": "ecf3a779-de28-47b8-8b66-1f210c4ffd7b",
   "metadata": {},
   "outputs": [
    {
     "data": {
      "application/vnd.jupyter.widget-view+json": {
       "model_id": "b163eb568e9e4adf83f958ce468204c9",
       "version_major": 2,
       "version_minor": 0
      },
      "text/plain": [
       "interactive(children=(ToggleButtons(description='Show:', options=('First Half', 'Second Half'), value='First H…"
      ]
     },
     "metadata": {},
     "output_type": "display_data"
    }
   ],
   "source": [
    "ames_box_plots(ames)"
   ]
  },
  {
   "cell_type": "markdown",
   "id": "087c729f-f270-4f5f-a737-d7032f982acd",
   "metadata": {},
   "source": [
    "**Question 3.1.** What do the circles in each of the box plots indicate? What do they tell us about the different neighborhoods?"
   ]
  },
  {
   "cell_type": "markdown",
   "id": "94279d21-0fa3-4b59-9a44-72dc05a80700",
   "metadata": {},
   "source": [
    "*Your Answer Here*"
   ]
  },
  {
   "cell_type": "markdown",
   "id": "2ff509ab-ef6f-41cf-ad0d-d6b029f366f0",
   "metadata": {},
   "source": [
    "### 3.2. Violin Plots"
   ]
  },
  {
   "cell_type": "markdown",
   "id": "ab5e3612-18ff-44b5-9cc3-0121648b87ec",
   "metadata": {},
   "source": [
    "As previously noted, visual exploration is key to understanding whatever data is being analyzed. A violin plot is a great alternative to a box plot, as it provides additional insights into the shape of the data distribution. Unlike box plots, violin plots reveal more about the distribution shape and density of sale prices, making them useful for spotting multimodal distributions.\n",
    "\n",
    "We use similar code to 3.1. to generate our plot defined by `ames_violin_plots`, and split the violin plots in two by the same criteria."
   ]
  },
  {
   "cell_type": "code",
   "execution_count": 6,
   "id": "6da6083e-2d70-4d67-9c63-574bde190064",
   "metadata": {},
   "outputs": [
    {
     "data": {
      "application/vnd.jupyter.widget-view+json": {
       "model_id": "e728dc376b7843ebb5dec8a77f179900",
       "version_major": 2,
       "version_minor": 0
      },
      "text/plain": [
       "interactive(children=(ToggleButtons(description='Show:', options=('First Half', 'Second Half'), value='First H…"
      ]
     },
     "metadata": {},
     "output_type": "display_data"
    }
   ],
   "source": [
    "ames_violin_plots(ames)"
   ]
  },
  {
   "cell_type": "markdown",
   "id": "ea58f5b4-5200-4cec-84c5-0aafc71c2414",
   "metadata": {},
   "source": [
    "**Question 3.2.** Both box plots and violin plots show distribution, but what additional information does a violin plot provide that a box plot does not?"
   ]
  },
  {
   "cell_type": "markdown",
   "id": "436c1a64-d316-495e-aaf1-84ef9e49725d",
   "metadata": {},
   "source": [
    "*Your Answer Here*"
   ]
  },
  {
   "cell_type": "markdown",
   "id": "39986af3-d9c3-4ad2-93f8-5ae44f001c8a",
   "metadata": {},
   "source": [
    "### 3.3. Histograms"
   ]
  },
  {
   "cell_type": "markdown",
   "id": "fd595337-f071-4278-b28a-79add86a60e0",
   "metadata": {},
   "source": [
    "Now that we have a good grasp of the distributions per neighborhood, let's take a step back and look at all of the sale prices in Ames. We can do this by plotting a histogram, which helps us understand the overall distribution of house prices across the entire dataset. We will be capable of identifying some key trends, such as whether house prices are skewed, where the most common price ranges are, and whether there are outliers in the dataset.\n",
    "\n",
    "Our custom `ames_histogram` function allows you to adjust the `bins` parameter dynamically using a slider! Try adjusting the slider below to change the number of bins and observe how it impacts the histogram."
   ]
  },
  {
   "cell_type": "code",
   "execution_count": 7,
   "id": "2e712302-d534-4a04-aab2-43b1bf700384",
   "metadata": {},
   "outputs": [
    {
     "data": {
      "application/vnd.jupyter.widget-view+json": {
       "model_id": "8e4488a6e39c4bdfa59bbd00eaa5c508",
       "version_major": 2,
       "version_minor": 0
      },
      "text/plain": [
       "interactive(children=(IntSlider(value=25, description='Bins:', max=50, min=5, step=5), Output()), _dom_classes…"
      ]
     },
     "metadata": {},
     "output_type": "display_data"
    }
   ],
   "source": [
    "ames_histogram(ames)"
   ]
  },
  {
   "cell_type": "markdown",
   "id": "603d7f10-b05f-4359-ba2b-dae648793e76",
   "metadata": {},
   "source": [
    "**Question 3.3.1.** What insights can we gain from looking at a histogram of house prices rather than just a single summary statistic like the mean or median?"
   ]
  },
  {
   "cell_type": "markdown",
   "id": "ef77a15e-2446-4a20-ac77-b6422c881129",
   "metadata": {},
   "source": [
    "*Your Answer Here*"
   ]
  },
  {
   "cell_type": "markdown",
   "id": "f4970cb3-ce91-4727-bc9f-2004b04dbaec",
   "metadata": {},
   "source": [
    "**Question 3.3.2.** Looking at the histogram, do house prices appear to be normally distributed? If not, what type of skewness do you observe?"
   ]
  },
  {
   "cell_type": "markdown",
   "id": "3ed4bc34-0863-4216-9fae-af1389c0c5af",
   "metadata": {},
   "source": [
    "*Your Answer Here*"
   ]
  },
  {
   "cell_type": "markdown",
   "id": "b154cf0a-4103-4afb-ae6f-0cd285e05454",
   "metadata": {},
   "source": [
    "**Question 3.3.3.** When adjusting the slider, did increasing the bins reveal more details or make the visualization too noisy? What happens when you decrease the bins?"
   ]
  },
  {
   "cell_type": "markdown",
   "id": "d9355d2b-4ff7-4488-8de3-45d29f721422",
   "metadata": {},
   "source": [
    "*Your Answer Here*"
   ]
  },
  {
   "cell_type": "markdown",
   "id": "cda64225-10c6-4ff1-9873-d740e70ac04d",
   "metadata": {},
   "source": [
    "---"
   ]
  },
  {
   "cell_type": "markdown",
   "id": "e2e47d30-896d-43dc-9f3c-e287249c63a1",
   "metadata": {},
   "source": [
    "## 4. Performing ANOVA"
   ]
  },
  {
   "cell_type": "markdown",
   "id": "fc2ff3c8-af88-4114-9373-2ea33c503ac8",
   "metadata": {},
   "source": [
    "Having cleaned and visualized the data, it is time to perform ANOVA! For this exercise, we will manually compute ANOVA in order to gain a deeper understanding of its components, in contrast to using a built-in function. There are 7 steps we want to follow:"
   ]
  },
  {
   "cell_type": "markdown",
   "id": "b91683da-df35-4510-bd95-3ac4caca0d0a",
   "metadata": {},
   "source": [
    "### 4.1. Group Means and Overall Mean\n",
    "\n",
    "Computing the mean sale prices for each neighborhood and the overall mean of sale prices."
   ]
  },
  {
   "cell_type": "code",
   "execution_count": 8,
   "id": "1c90d4fd-c6c0-4798-b301-7f4c4b9ac917",
   "metadata": {
    "scrolled": true
   },
   "outputs": [
    {
     "data": {
      "text/plain": [
       "(Neighborhood\n",
       " BrkSide    124756.250000\n",
       " CollgCr    201803.434457\n",
       " Crawfor    207550.834951\n",
       " Name: SalePrice, dtype: float64,\n",
       " np.float64(182793.66504672897))"
      ]
     },
     "execution_count": 8,
     "metadata": {},
     "output_type": "execute_result"
    }
   ],
   "source": [
    "group_means = ames.groupby(\"Neighborhood\", observed=True)[\"SalePrice\"].mean()\n",
    "overall_mean = ames[\"SalePrice\"].mean()\n",
    "\n",
    "group_means[:3], overall_mean"
   ]
  },
  {
   "cell_type": "markdown",
   "id": "cde07575-8e2a-4022-86a4-39be62863d96",
   "metadata": {},
   "source": [
    "### 4.2. Between-Group Sum of Squares (SSB)\n",
    "\n",
    "Computing the sum of squares between, or SSB."
   ]
  },
  {
   "cell_type": "code",
   "execution_count": 9,
   "id": "6b787f7f-e58f-473c-a687-649df715d7f9",
   "metadata": {},
   "outputs": [
    {
     "data": {
      "text/plain": [
       "9943483891966.016"
      ]
     },
     "execution_count": 9,
     "metadata": {},
     "output_type": "execute_result"
    }
   ],
   "source": [
    "ssb = sum(ames.groupby(\"Neighborhood\", observed=True).size() * (group_means - overall_mean) ** 2)\n",
    "ssb"
   ]
  },
  {
   "cell_type": "markdown",
   "id": "28e54f17-8cf3-4120-ac99-f514c6d64b3b",
   "metadata": {},
   "source": [
    "### 4.3. Within-Group Sum of Squares (SSW)\n",
    "\n",
    "Computing the sum of squares within, or SSW."
   ]
  },
  {
   "cell_type": "code",
   "execution_count": 10,
   "id": "2a2a9083-b2d4-4b64-97bf-77923a281809",
   "metadata": {},
   "outputs": [
    {
     "data": {
      "text/plain": [
       "7659972689149.867"
      ]
     },
     "execution_count": 10,
     "metadata": {},
     "output_type": "execute_result"
    }
   ],
   "source": [
    "ssw = sum(sum((ames[ames[\"Neighborhood\"] == group][\"SalePrice\"] - group_mean) ** 2)\n",
    "          for group, group_mean in group_means.items())\n",
    "ssw"
   ]
  },
  {
   "cell_type": "markdown",
   "id": "a85c9245-48af-4dcd-81da-f120d8c4f7b8",
   "metadata": {},
   "source": [
    "### 4.4. Degrees of Freedom\n",
    "\n",
    "Computing the degrees of freedom."
   ]
  },
  {
   "cell_type": "code",
   "execution_count": 11,
   "id": "f0f421c7-cc9f-49c8-994c-2ac934c1a587",
   "metadata": {},
   "outputs": [
    {
     "name": "stdout",
     "output_type": "stream",
     "text": [
      "16 2658\n"
     ]
    }
   ],
   "source": [
    "ames_between = len(group_means) - 1\n",
    "ames_within = len(ames) - len(group_means)\n",
    "\n",
    "print(f\"{ames_between} {ames_within}\")"
   ]
  },
  {
   "cell_type": "markdown",
   "id": "4801cbb0-b1a8-491d-8dbc-3df302bbea35",
   "metadata": {},
   "source": [
    "### 4.5. Mean Squares (MSB, MSW)\n",
    "\n",
    "Computing the mean squares between (MSB) and mean squares within (MSW)."
   ]
  },
  {
   "cell_type": "code",
   "execution_count": 12,
   "id": "9f375934-1c27-44d8-880f-9ea2dc5e482f",
   "metadata": {},
   "outputs": [
    {
     "name": "stdout",
     "output_type": "stream",
     "text": [
      "MSB: 621467743247.876, MSW: 2881855789.747881\n"
     ]
    }
   ],
   "source": [
    "msb = ssb / ames_between\n",
    "msw = ssw / ames_within\n",
    "\n",
    "print(f\"MSB: {msb}, MSW: {msw}\")"
   ]
  },
  {
   "cell_type": "markdown",
   "id": "c0747b5f-9efd-4d1d-8447-0641c11d931d",
   "metadata": {},
   "source": [
    "### 4.6. F-Statistic\n",
    "\n",
    "Computing the F-Statistic."
   ]
  },
  {
   "cell_type": "code",
   "execution_count": 13,
   "id": "b38ebc19-6d12-465c-9986-cc7f70d505d2",
   "metadata": {},
   "outputs": [
    {
     "data": {
      "text/plain": [
       "215.64845314561873"
      ]
     },
     "execution_count": 13,
     "metadata": {},
     "output_type": "execute_result"
    }
   ],
   "source": [
    "f_statistic = msb / msw\n",
    "f_statistic"
   ]
  },
  {
   "cell_type": "markdown",
   "id": "59277cbc-737b-4253-a0bf-ca7617da1852",
   "metadata": {},
   "source": [
    "**Question 4.6.** What does a very large F-statistic indicate about the differences in sale prices between neighborhoods? What would a small F-statistic suggest?"
   ]
  },
  {
   "cell_type": "markdown",
   "id": "fc281848-0e62-4b06-910a-2c4b862911fc",
   "metadata": {},
   "source": [
    "*Your Answer Here*"
   ]
  },
  {
   "cell_type": "markdown",
   "id": "621a1d3c-4d93-4639-9d46-3e57cce88dab",
   "metadata": {},
   "source": [
    "### 4.7. p-value\n",
    "\n",
    "Computing the p-value."
   ]
  },
  {
   "cell_type": "code",
   "execution_count": 14,
   "id": "a7331d90-e7f2-4a1b-a2e8-5a9d2727e3b5",
   "metadata": {},
   "outputs": [
    {
     "data": {
      "text/plain": [
       "1.1102230246251565e-16"
      ]
     },
     "execution_count": 14,
     "metadata": {},
     "output_type": "execute_result"
    }
   ],
   "source": [
    "p_value = 1 - stats.f.cdf(f_statistic, ames_between, ames_within)\n",
    "float(p_value)"
   ]
  },
  {
   "cell_type": "markdown",
   "id": "7d110784-d95e-4d4e-b365-b9756a591507",
   "metadata": {},
   "source": [
    "**Question 4.7.** The computed p-value is extremely small. What does this tell us about the likelihood that all neighborhoods have the same average sale price? How should we interpret this result?"
   ]
  },
  {
   "cell_type": "markdown",
   "id": "e148f71c-8c23-40f0-8696-83c7ffc35e18",
   "metadata": {},
   "source": [
    "*Your Answer Here*"
   ]
  },
  {
   "cell_type": "markdown",
   "id": "258834f2-1f23-45c2-925b-78b40e82d68f",
   "metadata": {},
   "source": [
    "---"
   ]
  },
  {
   "cell_type": "markdown",
   "id": "aa2ea043-0164-427b-ac82-02f5a20f2281",
   "metadata": {},
   "source": [
    "## 5. Sanity Check Using SciPy"
   ]
  },
  {
   "cell_type": "markdown",
   "id": "2f2281aa-c695-4e13-9215-a17c00b93017",
   "metadata": {},
   "source": [
    "Now that we have computed the F-statistic and p-value for ANOVA manually, let us use a pre-packaged function from `SciPy` called `f_oneway` to sanity check our results. \n",
    "\n",
    "Before we can instantly plug our data into `f_oneway`, there are a few steps we need to take to set up our input correctly. First, we initialize an empty list called `price_groups` to store sale prices per neighborhood. Next, we loop through `selected_neighborhoods`, filter the data to each neighborhood, and extract the sale prices for each one. Then, these extracted values are appended to `price_groups`, ultimately creating a list of `pd.Series`. Finally, we pass this list into `f_oneway`, using the unpacking operator `*` to so it inputs each `pd.Series` as a separate argument."
   ]
  },
  {
   "cell_type": "code",
   "execution_count": 15,
   "id": "d5177592-358a-4373-a323-b979dd6c78a5",
   "metadata": {},
   "outputs": [
    {
     "name": "stdout",
     "output_type": "stream",
     "text": [
      "Sanity Check - SciPy F-statistic: 215.65, p-value: 0.00000\n"
     ]
    }
   ],
   "source": [
    "# Prepare SalePrice data for each neighborhood\n",
    "price_groups = []\n",
    "for neighborhood in selected_neighborhoods:\n",
    "    ames_neighborhood = ames[ames[\"Neighborhood\"] == neighborhood]\n",
    "    price_group = ames_neighborhood[\"SalePrice\"]\n",
    "    price_groups.append(price_group)\n",
    "\n",
    "# Run the One-Way ANOVA test\n",
    "anova_result = stats.f_oneway(*price_groups)\n",
    "\n",
    "print(f\"Sanity Check - SciPy F-statistic: {anova_result.statistic:.2f}, p-value: {anova_result.pvalue:.5f}\")"
   ]
  },
  {
   "cell_type": "markdown",
   "id": "dce7e2fb-8793-476a-bcfc-242278fe99c6",
   "metadata": {},
   "source": [
    "---"
   ]
  },
  {
   "cell_type": "markdown",
   "id": "6d72f078-efa0-47bc-aac0-0a51e97ee220",
   "metadata": {},
   "source": [
    "## 6. Penguins Sandbox"
   ]
  },
  {
   "cell_type": "markdown",
   "id": "504ace37-8bf0-4ae3-9be4-10b5151fb662",
   "metadata": {},
   "source": [
    "After completing our ANOVA analysis on the Ames Housing dataset, we can pivot to a new dataset: the **Palmer Penguins** dataset. It contains physical measurements for penguins across three species — **Adelie, Chinstrap, and Gentoo** — and serves as a great dataset for exploring variance across groups."
   ]
  },
  {
   "cell_type": "markdown",
   "id": "a1105df8-6166-4e3d-b151-2e543b458a18",
   "metadata": {},
   "source": [
    "### 6.1. Loading the Data\n",
    "\n",
    "We load the dataset directly from `Seaborn` and immediately drop rows with missing values using `dropna` to simplify the analysis. This gives us a clean dataset with complete records for each penguin."
   ]
  },
  {
   "cell_type": "code",
   "execution_count": 16,
   "id": "95a4004e-6421-47e9-99d3-35c386080e60",
   "metadata": {},
   "outputs": [
    {
     "data": {
      "text/html": [
       "<div>\n",
       "<style scoped>\n",
       "    .dataframe tbody tr th:only-of-type {\n",
       "        vertical-align: middle;\n",
       "    }\n",
       "\n",
       "    .dataframe tbody tr th {\n",
       "        vertical-align: top;\n",
       "    }\n",
       "\n",
       "    .dataframe thead th {\n",
       "        text-align: right;\n",
       "    }\n",
       "</style>\n",
       "<table border=\"1\" class=\"dataframe\">\n",
       "  <thead>\n",
       "    <tr style=\"text-align: right;\">\n",
       "      <th></th>\n",
       "      <th>species</th>\n",
       "      <th>island</th>\n",
       "      <th>bill_length_mm</th>\n",
       "      <th>bill_depth_mm</th>\n",
       "      <th>flipper_length_mm</th>\n",
       "      <th>body_mass_g</th>\n",
       "      <th>sex</th>\n",
       "    </tr>\n",
       "  </thead>\n",
       "  <tbody>\n",
       "    <tr>\n",
       "      <th>0</th>\n",
       "      <td>Adelie</td>\n",
       "      <td>Torgersen</td>\n",
       "      <td>39.1</td>\n",
       "      <td>18.7</td>\n",
       "      <td>181.0</td>\n",
       "      <td>3750.0</td>\n",
       "      <td>Male</td>\n",
       "    </tr>\n",
       "    <tr>\n",
       "      <th>1</th>\n",
       "      <td>Adelie</td>\n",
       "      <td>Torgersen</td>\n",
       "      <td>39.5</td>\n",
       "      <td>17.4</td>\n",
       "      <td>186.0</td>\n",
       "      <td>3800.0</td>\n",
       "      <td>Female</td>\n",
       "    </tr>\n",
       "    <tr>\n",
       "      <th>2</th>\n",
       "      <td>Adelie</td>\n",
       "      <td>Torgersen</td>\n",
       "      <td>40.3</td>\n",
       "      <td>18.0</td>\n",
       "      <td>195.0</td>\n",
       "      <td>3250.0</td>\n",
       "      <td>Female</td>\n",
       "    </tr>\n",
       "    <tr>\n",
       "      <th>4</th>\n",
       "      <td>Adelie</td>\n",
       "      <td>Torgersen</td>\n",
       "      <td>36.7</td>\n",
       "      <td>19.3</td>\n",
       "      <td>193.0</td>\n",
       "      <td>3450.0</td>\n",
       "      <td>Female</td>\n",
       "    </tr>\n",
       "    <tr>\n",
       "      <th>5</th>\n",
       "      <td>Adelie</td>\n",
       "      <td>Torgersen</td>\n",
       "      <td>39.3</td>\n",
       "      <td>20.6</td>\n",
       "      <td>190.0</td>\n",
       "      <td>3650.0</td>\n",
       "      <td>Male</td>\n",
       "    </tr>\n",
       "    <tr>\n",
       "      <th>6</th>\n",
       "      <td>Adelie</td>\n",
       "      <td>Torgersen</td>\n",
       "      <td>38.9</td>\n",
       "      <td>17.8</td>\n",
       "      <td>181.0</td>\n",
       "      <td>3625.0</td>\n",
       "      <td>Female</td>\n",
       "    </tr>\n",
       "    <tr>\n",
       "      <th>7</th>\n",
       "      <td>Adelie</td>\n",
       "      <td>Torgersen</td>\n",
       "      <td>39.2</td>\n",
       "      <td>19.6</td>\n",
       "      <td>195.0</td>\n",
       "      <td>4675.0</td>\n",
       "      <td>Male</td>\n",
       "    </tr>\n",
       "    <tr>\n",
       "      <th>12</th>\n",
       "      <td>Adelie</td>\n",
       "      <td>Torgersen</td>\n",
       "      <td>41.1</td>\n",
       "      <td>17.6</td>\n",
       "      <td>182.0</td>\n",
       "      <td>3200.0</td>\n",
       "      <td>Female</td>\n",
       "    </tr>\n",
       "    <tr>\n",
       "      <th>13</th>\n",
       "      <td>Adelie</td>\n",
       "      <td>Torgersen</td>\n",
       "      <td>38.6</td>\n",
       "      <td>21.2</td>\n",
       "      <td>191.0</td>\n",
       "      <td>3800.0</td>\n",
       "      <td>Male</td>\n",
       "    </tr>\n",
       "    <tr>\n",
       "      <th>14</th>\n",
       "      <td>Adelie</td>\n",
       "      <td>Torgersen</td>\n",
       "      <td>34.6</td>\n",
       "      <td>21.1</td>\n",
       "      <td>198.0</td>\n",
       "      <td>4400.0</td>\n",
       "      <td>Male</td>\n",
       "    </tr>\n",
       "  </tbody>\n",
       "</table>\n",
       "</div>"
      ],
      "text/plain": [
       "   species     island  bill_length_mm  bill_depth_mm  flipper_length_mm  \\\n",
       "0   Adelie  Torgersen            39.1           18.7              181.0   \n",
       "1   Adelie  Torgersen            39.5           17.4              186.0   \n",
       "2   Adelie  Torgersen            40.3           18.0              195.0   \n",
       "4   Adelie  Torgersen            36.7           19.3              193.0   \n",
       "5   Adelie  Torgersen            39.3           20.6              190.0   \n",
       "6   Adelie  Torgersen            38.9           17.8              181.0   \n",
       "7   Adelie  Torgersen            39.2           19.6              195.0   \n",
       "12  Adelie  Torgersen            41.1           17.6              182.0   \n",
       "13  Adelie  Torgersen            38.6           21.2              191.0   \n",
       "14  Adelie  Torgersen            34.6           21.1              198.0   \n",
       "\n",
       "    body_mass_g     sex  \n",
       "0        3750.0    Male  \n",
       "1        3800.0  Female  \n",
       "2        3250.0  Female  \n",
       "4        3450.0  Female  \n",
       "5        3650.0    Male  \n",
       "6        3625.0  Female  \n",
       "7        4675.0    Male  \n",
       "12       3200.0  Female  \n",
       "13       3800.0    Male  \n",
       "14       4400.0    Male  "
      ]
     },
     "execution_count": 16,
     "metadata": {},
     "output_type": "execute_result"
    }
   ],
   "source": [
    "# Load the dataset\n",
    "penguins = sns.load_dataset(\"penguins\")\n",
    "penguins = penguins.dropna()\n",
    "penguins.head(10)"
   ]
  },
  {
   "cell_type": "markdown",
   "id": "474db07e-3fd1-4245-9732-e26495e80e94",
   "metadata": {},
   "source": [
    "### 6.2. Exploring Variable Distributions\n",
    "\n",
    "Here, we use three custom interactive functions — `penguins_box_plots`, `penguins_violin_plots`, and `penguins_histogram` — to explore the distribution of quantitative features like `bill_length_mm` and `body_mass_g` across different species. Also, similar to the `ames_histogram` function from *Part 3.3.*, you can change the number of bins for `penguins_histogram` using the given slider. These features allow us to **visually assess variation** and determine whether differences might exist — a prerequisite for conducting **ANOVA**."
   ]
  },
  {
   "cell_type": "code",
   "execution_count": 17,
   "id": "7a435b56-898c-4047-a9a4-149c390d50ee",
   "metadata": {},
   "outputs": [
    {
     "data": {
      "application/vnd.jupyter.widget-view+json": {
       "model_id": "50e7ea43d29743fcba41486d94f24ca9",
       "version_major": 2,
       "version_minor": 0
      },
      "text/plain": [
       "interactive(children=(Dropdown(description='Variable:', options=('bill_length_mm', 'bill_depth_mm', 'flipper_l…"
      ]
     },
     "metadata": {},
     "output_type": "display_data"
    }
   ],
   "source": [
    "penguins_box_plots(penguins)"
   ]
  },
  {
   "cell_type": "code",
   "execution_count": 18,
   "id": "29674a8b-87d8-4766-b7b4-e7190d1ce208",
   "metadata": {},
   "outputs": [
    {
     "data": {
      "application/vnd.jupyter.widget-view+json": {
       "model_id": "a5c26542c5e54d609da20df06c6803d9",
       "version_major": 2,
       "version_minor": 0
      },
      "text/plain": [
       "interactive(children=(Dropdown(description='Variable:', options=('bill_length_mm', 'bill_depth_mm', 'flipper_l…"
      ]
     },
     "metadata": {},
     "output_type": "display_data"
    }
   ],
   "source": [
    "penguins_violin_plots(penguins)"
   ]
  },
  {
   "cell_type": "code",
   "execution_count": 19,
   "id": "aa07ca3b-27e6-4b4f-acab-bf20426cd2c7",
   "metadata": {},
   "outputs": [
    {
     "data": {
      "application/vnd.jupyter.widget-view+json": {
       "model_id": "7f1b2d174c7b4e089f6c122b87097db7",
       "version_major": 2,
       "version_minor": 0
      },
      "text/plain": [
       "interactive(children=(Dropdown(description='Variable:', options=('bill_length_mm', 'bill_depth_mm', 'flipper_l…"
      ]
     },
     "metadata": {},
     "output_type": "display_data"
    }
   ],
   "source": [
    "penguins_histogram(penguins)"
   ]
  },
  {
   "cell_type": "markdown",
   "id": "a2c514cc-d83d-4a84-8464-0e5ffbf3f8e8",
   "metadata": {},
   "source": [
    "**Question 6.2.** Based on the visualizations you explored, which quantitative feature shows the most variation between penguin species? Which of the three visualization types was the most effective in revealing these differences, and why?"
   ]
  },
  {
   "cell_type": "markdown",
   "id": "2ef28124-8b87-4561-a1c5-0f0c16a944a2",
   "metadata": {},
   "source": [
    "*Your Answer Here*"
   ]
  },
  {
   "cell_type": "markdown",
   "id": "a8f998ea-df14-4973-9084-fc05cd86f821",
   "metadata": {},
   "source": [
    "### 6.3. Performing ANOVA\n",
    "\n",
    "We built a custom `penguins_run_anova` function that runs ANOVA similar to *Part 5.* Given the exploration you did in *Part 6.2.*, choose the feature you would like to run ANOVA on using the dropdown menu."
   ]
  },
  {
   "cell_type": "code",
   "execution_count": 20,
   "id": "cd9ef6f2-faaa-41a0-a17b-33cedaf48cbb",
   "metadata": {},
   "outputs": [
    {
     "data": {
      "application/vnd.jupyter.widget-view+json": {
       "model_id": "623942488640479096c7ec36eef8968e",
       "version_major": 2,
       "version_minor": 0
      },
      "text/plain": [
       "interactive(children=(Dropdown(description='Feature:', options=('bill_length_mm', 'bill_depth_mm', 'flipper_le…"
      ]
     },
     "metadata": {},
     "output_type": "display_data"
    }
   ],
   "source": [
    "penguins_run_anova(penguins)"
   ]
  },
  {
   "cell_type": "markdown",
   "id": "dfd661a3-ceff-474f-94e5-2b9a356412f0",
   "metadata": {},
   "source": [
    "**Question 6.3.** Which feature did you choose to run your ANOVA test on? What does the F-statistic tell us in this context? How about the p-value — what does it indicate about differences between species? Do these results align with your expectations based on the visualizations in *Part 6.2.*?"
   ]
  },
  {
   "cell_type": "markdown",
   "id": "f26f1890-f36e-4fd6-b447-96ebfe50005e",
   "metadata": {},
   "source": [
    "*Your Answer Here*"
   ]
  },
  {
   "cell_type": "markdown",
   "id": "d06156c0-f605-4556-a76b-6700733c8509",
   "metadata": {},
   "source": [
    "---"
   ]
  },
  {
   "cell_type": "markdown",
   "id": "6690737d-3f4c-44f6-a08e-6aea14f2d0f6",
   "metadata": {},
   "source": [
    "## 7. Conclusion"
   ]
  },
  {
   "cell_type": "markdown",
   "id": "dacc0ead-dcf0-4b1a-86a4-8dbc7033878c",
   "metadata": {},
   "source": [
    "In this notebook, we explored using ANOVA using the Ames Housing and Palmer Penguins datasets!\n",
    "\n",
    "Note, however, that we should have more rigorously proved the ANOVA assumptions to be true at the start of the notebook, though this was abstracted away for the sake of this notebook. We highly encourage you to try proving these checks on your own, and you may find some interesting results!\n",
    "\n",
    "We encourage you to explore further with the groundwork laid out with this notebook. You can try running ANOVA on different features and explore more tests to determine what neighborhoods had more signficant differences in sale price against other neighborhoods."
   ]
  },
  {
   "cell_type": "markdown",
   "id": "e2e2b722-40b4-4945-841a-9976e933b2a7",
   "metadata": {},
   "source": [
    "---"
   ]
  },
  {
   "cell_type": "markdown",
   "id": "6a90103b-8189-4ba3-b4db-3a3bcf528b41",
   "metadata": {},
   "source": [
    "**Woohoo! You have completed this notebook! 🚀**"
   ]
  }
 ],
 "metadata": {
  "kernelspec": {
   "display_name": "Python 3 (ipykernel)",
   "language": "python",
   "name": "python3"
  },
  "language_info": {
   "codemirror_mode": {
    "name": "ipython",
    "version": 3
   },
   "file_extension": ".py",
   "mimetype": "text/x-python",
   "name": "python",
   "nbconvert_exporter": "python",
   "pygments_lexer": "ipython3",
   "version": "3.13.3"
  }
 },
 "nbformat": 4,
 "nbformat_minor": 5
}
