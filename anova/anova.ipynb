{
 "cells": [
  {
   "cell_type": "markdown",
   "id": "76179ca8-e9a8-492e-8232-894140a52e38",
   "metadata": {},
   "source": [
    "# DEVELOPER NOTE: Very rough draft"
   ]
  },
  {
   "cell_type": "markdown",
   "id": "7d0b8617-b828-48fb-9d5f-7912d1a0c203",
   "metadata": {},
   "source": [
    "## DEVELOPER ACTION ITEMS:\n",
    "- Improve on storyline/commentary throughout the notebook\n",
    "- Revise code introduced in the notebook\n",
    "    - Consider having small code tests for students to refer to\n",
    "- Figure out estimated time for the notebook\n",
    "- Integrate ipywidgets where possible!!!\n",
    "- Use sign test for matched pairs for the Non-Parametric Tests part\n",
    "- Add a lot of text! Most students are not familiar with code\n",
    "\n",
    "## Timeline\n",
    "- Finish almost final draft by next cycle"
   ]
  },
  {
   "cell_type": "markdown",
   "id": "c14e6b4e-da3e-4634-99b8-ff07cd24d777",
   "metadata": {},
   "source": [
    "---"
   ]
  },
  {
   "cell_type": "markdown",
   "id": "280fd3df-d527-44d2-b512-8939c6fdb2f9",
   "metadata": {},
   "source": [
    "# ANOVA and Non-Parametric Tests"
   ]
  },
  {
   "cell_type": "markdown",
   "id": "bd5b0640-fedf-4c9d-9e68-fc8ec1f4c7d6",
   "metadata": {},
   "source": [
    "**Estimated Time**: ??? <br>\n",
    "**Module Developer**: James Geronimo"
   ]
  },
  {
   "cell_type": "markdown",
   "id": "979c5802-571e-4c4b-81cb-647b595178e1",
   "metadata": {},
   "source": [
    "## Table of Contents"
   ]
  },
  {
   "cell_type": "markdown",
   "id": "df662679-5e4c-47c5-b16e-303a455d1132",
   "metadata": {},
   "source": [
    "1. Introduction <br>\n",
    "    1.1. Learning Objectives <br>\n",
    "    1.2. Understanding ANOVA <br>\n",
    "    1.3. Setup\n",
    "2. Data Preparation <br>\n",
    "3. Visualizing the Data <br>\n",
    "4. Performing ANOVA <br>\n",
    "5. Sanity Check using SciPy <br>\n",
    "6. Non-Parametric Test: Kruskal-Wallis Test <br>\n",
    "7. Conclusion"
   ]
  },
  {
   "cell_type": "markdown",
   "id": "8960bde5-c558-45ee-9ce6-432b823d65f5",
   "metadata": {},
   "source": [
    "---"
   ]
  },
  {
   "cell_type": "markdown",
   "id": "a83989b1-c32f-4eba-ac49-039494dc1a7f",
   "metadata": {},
   "source": [
    "## 1. Introduction"
   ]
  },
  {
   "cell_type": "markdown",
   "id": "b7ed8477-c823-419e-b665-29c8eb4e44f9",
   "metadata": {},
   "source": [
    "### 1.1. Learning Objectives"
   ]
  },
  {
   "cell_type": "markdown",
   "id": "cb4f46fd-7b47-4e83-9895-3a9649081a7c",
   "metadata": {},
   "source": [
    "Understanding how to compare multiple groups statistically is crucial in data analysis. We will learn to apply **ANOVA** and **non-parametric tests** to analyze housing prices. In this notebook, you will:\n",
    "- Understand when to use ANOVA instead of a two-mean test\n",
    "- Learn how to manually compute ANOVA step-by-step\n",
    "- Use SciPy’s `stats.f_oneway` as a sanity check\n",
    "- Visualize housing price differences across different groups"
   ]
  },
  {
   "cell_type": "markdown",
   "id": "22550ae7-fad7-4230-a09c-1b98e415d5ba",
   "metadata": {},
   "source": [
    "### 1.2. Understanding ANOVA"
   ]
  },
  {
   "cell_type": "markdown",
   "id": "bd4d0e77-ccd1-474d-b5ce-3eee6d0d9916",
   "metadata": {},
   "source": [
    "What is the motivation for using **An**alysis **O**f **Va**riance, a.k.a. **ANOVA**, over a traditional Two-Mean Test? ANOVA is used when comparing **more than two groups**. More specfically, when comparing multiple groups, a series of two-sample t-tests is inefficient and increases the risk of Type I errors (false positives). ANOVA allows us to compare **more than two groups** in a single test. ANOVA checks whether the means of different groups are significantly different by comparing within-group and between-group variability.\n",
    "\n",
    "We will explore **comparing house prices across different neighborhoods** in our dataset. There are a few assumptions that need to be made when running ANOVA tests:\n",
    "\n",
    "1. **Normality:** The populations follow a normal distribution.\n",
    "2. **Homogeneity of Variance:** Variances across groups are equal.\n",
    "3. **Independence:** Observations are independent of each other."
   ]
  },
  {
   "cell_type": "markdown",
   "id": "0900d202-38f3-484d-83ee-e29ed9bbfec1",
   "metadata": {},
   "source": [
    "### 1.3. Setup"
   ]
  },
  {
   "cell_type": "markdown",
   "id": "909066b2-b390-4094-9e5d-662d9021763c",
   "metadata": {},
   "source": [
    "Below, we have imported some Python libraries that are necessary for this module. Make sure to run this cell before running any other code cells!"
   ]
  },
  {
   "cell_type": "code",
   "execution_count": 42,
   "id": "0394f20e-4ffb-446a-b9c7-d81e8315e803",
   "metadata": {},
   "outputs": [],
   "source": [
    "import numpy as np\n",
    "import pandas as pd\n",
    "import scipy.stats as stats\n",
    "\n",
    "import matplotlib.pyplot as plt\n",
    "plt.style.use('fivethirtyeight')\n",
    "import seaborn as sns\n",
    "\n",
    "from ipywidgets import interact, widgets"
   ]
  },
  {
   "cell_type": "markdown",
   "id": "9c4f5f32-d5cc-4ebc-adba-8d0a2b384df8",
   "metadata": {},
   "source": [
    "---"
   ]
  },
  {
   "cell_type": "markdown",
   "id": "1f2b9e5a-49a9-4121-a76f-78e644dc784e",
   "metadata": {},
   "source": [
    "## 2. Data Preparation"
   ]
  },
  {
   "cell_type": "markdown",
   "id": "03dbc6ad-5c22-4011-8056-a38ce2502cb1",
   "metadata": {},
   "source": [
    "Let's first create a `DataFrame` for our data in a variable named `ames`. We do this by using the `read_csv` function from the `pandas` library. We then use `head(10)` to see the first 10 rows of the data. In other words, we view the \"head\" of the data."
   ]
  },
  {
   "cell_type": "code",
   "execution_count": 43,
   "id": "442ccf20-1a9c-45c5-91c6-9b85f070f6c6",
   "metadata": {},
   "outputs": [
    {
     "data": {
      "text/html": [
       "<div>\n",
       "<style scoped>\n",
       "    .dataframe tbody tr th:only-of-type {\n",
       "        vertical-align: middle;\n",
       "    }\n",
       "\n",
       "    .dataframe tbody tr th {\n",
       "        vertical-align: top;\n",
       "    }\n",
       "\n",
       "    .dataframe thead th {\n",
       "        text-align: right;\n",
       "    }\n",
       "</style>\n",
       "<table border=\"1\" class=\"dataframe\">\n",
       "  <thead>\n",
       "    <tr style=\"text-align: right;\">\n",
       "      <th></th>\n",
       "      <th>Order</th>\n",
       "      <th>PID</th>\n",
       "      <th>MS SubClass</th>\n",
       "      <th>MS Zoning</th>\n",
       "      <th>Lot Frontage</th>\n",
       "      <th>Lot Area</th>\n",
       "      <th>Street</th>\n",
       "      <th>Alley</th>\n",
       "      <th>Lot Shape</th>\n",
       "      <th>Land Contour</th>\n",
       "      <th>...</th>\n",
       "      <th>Pool Area</th>\n",
       "      <th>Pool QC</th>\n",
       "      <th>Fence</th>\n",
       "      <th>Misc Feature</th>\n",
       "      <th>Misc Val</th>\n",
       "      <th>Mo Sold</th>\n",
       "      <th>Yr Sold</th>\n",
       "      <th>Sale Type</th>\n",
       "      <th>Sale Condition</th>\n",
       "      <th>SalePrice</th>\n",
       "    </tr>\n",
       "  </thead>\n",
       "  <tbody>\n",
       "    <tr>\n",
       "      <th>0</th>\n",
       "      <td>1</td>\n",
       "      <td>526301100</td>\n",
       "      <td>20</td>\n",
       "      <td>RL</td>\n",
       "      <td>141.0</td>\n",
       "      <td>31770</td>\n",
       "      <td>Pave</td>\n",
       "      <td>NaN</td>\n",
       "      <td>IR1</td>\n",
       "      <td>Lvl</td>\n",
       "      <td>...</td>\n",
       "      <td>0</td>\n",
       "      <td>NaN</td>\n",
       "      <td>NaN</td>\n",
       "      <td>NaN</td>\n",
       "      <td>0</td>\n",
       "      <td>5</td>\n",
       "      <td>2010</td>\n",
       "      <td>WD</td>\n",
       "      <td>Normal</td>\n",
       "      <td>215000</td>\n",
       "    </tr>\n",
       "    <tr>\n",
       "      <th>1</th>\n",
       "      <td>2</td>\n",
       "      <td>526350040</td>\n",
       "      <td>20</td>\n",
       "      <td>RH</td>\n",
       "      <td>80.0</td>\n",
       "      <td>11622</td>\n",
       "      <td>Pave</td>\n",
       "      <td>NaN</td>\n",
       "      <td>Reg</td>\n",
       "      <td>Lvl</td>\n",
       "      <td>...</td>\n",
       "      <td>0</td>\n",
       "      <td>NaN</td>\n",
       "      <td>MnPrv</td>\n",
       "      <td>NaN</td>\n",
       "      <td>0</td>\n",
       "      <td>6</td>\n",
       "      <td>2010</td>\n",
       "      <td>WD</td>\n",
       "      <td>Normal</td>\n",
       "      <td>105000</td>\n",
       "    </tr>\n",
       "    <tr>\n",
       "      <th>2</th>\n",
       "      <td>3</td>\n",
       "      <td>526351010</td>\n",
       "      <td>20</td>\n",
       "      <td>RL</td>\n",
       "      <td>81.0</td>\n",
       "      <td>14267</td>\n",
       "      <td>Pave</td>\n",
       "      <td>NaN</td>\n",
       "      <td>IR1</td>\n",
       "      <td>Lvl</td>\n",
       "      <td>...</td>\n",
       "      <td>0</td>\n",
       "      <td>NaN</td>\n",
       "      <td>NaN</td>\n",
       "      <td>Gar2</td>\n",
       "      <td>12500</td>\n",
       "      <td>6</td>\n",
       "      <td>2010</td>\n",
       "      <td>WD</td>\n",
       "      <td>Normal</td>\n",
       "      <td>172000</td>\n",
       "    </tr>\n",
       "    <tr>\n",
       "      <th>3</th>\n",
       "      <td>4</td>\n",
       "      <td>526353030</td>\n",
       "      <td>20</td>\n",
       "      <td>RL</td>\n",
       "      <td>93.0</td>\n",
       "      <td>11160</td>\n",
       "      <td>Pave</td>\n",
       "      <td>NaN</td>\n",
       "      <td>Reg</td>\n",
       "      <td>Lvl</td>\n",
       "      <td>...</td>\n",
       "      <td>0</td>\n",
       "      <td>NaN</td>\n",
       "      <td>NaN</td>\n",
       "      <td>NaN</td>\n",
       "      <td>0</td>\n",
       "      <td>4</td>\n",
       "      <td>2010</td>\n",
       "      <td>WD</td>\n",
       "      <td>Normal</td>\n",
       "      <td>244000</td>\n",
       "    </tr>\n",
       "    <tr>\n",
       "      <th>4</th>\n",
       "      <td>5</td>\n",
       "      <td>527105010</td>\n",
       "      <td>60</td>\n",
       "      <td>RL</td>\n",
       "      <td>74.0</td>\n",
       "      <td>13830</td>\n",
       "      <td>Pave</td>\n",
       "      <td>NaN</td>\n",
       "      <td>IR1</td>\n",
       "      <td>Lvl</td>\n",
       "      <td>...</td>\n",
       "      <td>0</td>\n",
       "      <td>NaN</td>\n",
       "      <td>MnPrv</td>\n",
       "      <td>NaN</td>\n",
       "      <td>0</td>\n",
       "      <td>3</td>\n",
       "      <td>2010</td>\n",
       "      <td>WD</td>\n",
       "      <td>Normal</td>\n",
       "      <td>189900</td>\n",
       "    </tr>\n",
       "    <tr>\n",
       "      <th>5</th>\n",
       "      <td>6</td>\n",
       "      <td>527105030</td>\n",
       "      <td>60</td>\n",
       "      <td>RL</td>\n",
       "      <td>78.0</td>\n",
       "      <td>9978</td>\n",
       "      <td>Pave</td>\n",
       "      <td>NaN</td>\n",
       "      <td>IR1</td>\n",
       "      <td>Lvl</td>\n",
       "      <td>...</td>\n",
       "      <td>0</td>\n",
       "      <td>NaN</td>\n",
       "      <td>NaN</td>\n",
       "      <td>NaN</td>\n",
       "      <td>0</td>\n",
       "      <td>6</td>\n",
       "      <td>2010</td>\n",
       "      <td>WD</td>\n",
       "      <td>Normal</td>\n",
       "      <td>195500</td>\n",
       "    </tr>\n",
       "    <tr>\n",
       "      <th>6</th>\n",
       "      <td>7</td>\n",
       "      <td>527127150</td>\n",
       "      <td>120</td>\n",
       "      <td>RL</td>\n",
       "      <td>41.0</td>\n",
       "      <td>4920</td>\n",
       "      <td>Pave</td>\n",
       "      <td>NaN</td>\n",
       "      <td>Reg</td>\n",
       "      <td>Lvl</td>\n",
       "      <td>...</td>\n",
       "      <td>0</td>\n",
       "      <td>NaN</td>\n",
       "      <td>NaN</td>\n",
       "      <td>NaN</td>\n",
       "      <td>0</td>\n",
       "      <td>4</td>\n",
       "      <td>2010</td>\n",
       "      <td>WD</td>\n",
       "      <td>Normal</td>\n",
       "      <td>213500</td>\n",
       "    </tr>\n",
       "    <tr>\n",
       "      <th>7</th>\n",
       "      <td>8</td>\n",
       "      <td>527145080</td>\n",
       "      <td>120</td>\n",
       "      <td>RL</td>\n",
       "      <td>43.0</td>\n",
       "      <td>5005</td>\n",
       "      <td>Pave</td>\n",
       "      <td>NaN</td>\n",
       "      <td>IR1</td>\n",
       "      <td>HLS</td>\n",
       "      <td>...</td>\n",
       "      <td>0</td>\n",
       "      <td>NaN</td>\n",
       "      <td>NaN</td>\n",
       "      <td>NaN</td>\n",
       "      <td>0</td>\n",
       "      <td>1</td>\n",
       "      <td>2010</td>\n",
       "      <td>WD</td>\n",
       "      <td>Normal</td>\n",
       "      <td>191500</td>\n",
       "    </tr>\n",
       "    <tr>\n",
       "      <th>8</th>\n",
       "      <td>9</td>\n",
       "      <td>527146030</td>\n",
       "      <td>120</td>\n",
       "      <td>RL</td>\n",
       "      <td>39.0</td>\n",
       "      <td>5389</td>\n",
       "      <td>Pave</td>\n",
       "      <td>NaN</td>\n",
       "      <td>IR1</td>\n",
       "      <td>Lvl</td>\n",
       "      <td>...</td>\n",
       "      <td>0</td>\n",
       "      <td>NaN</td>\n",
       "      <td>NaN</td>\n",
       "      <td>NaN</td>\n",
       "      <td>0</td>\n",
       "      <td>3</td>\n",
       "      <td>2010</td>\n",
       "      <td>WD</td>\n",
       "      <td>Normal</td>\n",
       "      <td>236500</td>\n",
       "    </tr>\n",
       "    <tr>\n",
       "      <th>9</th>\n",
       "      <td>10</td>\n",
       "      <td>527162130</td>\n",
       "      <td>60</td>\n",
       "      <td>RL</td>\n",
       "      <td>60.0</td>\n",
       "      <td>7500</td>\n",
       "      <td>Pave</td>\n",
       "      <td>NaN</td>\n",
       "      <td>Reg</td>\n",
       "      <td>Lvl</td>\n",
       "      <td>...</td>\n",
       "      <td>0</td>\n",
       "      <td>NaN</td>\n",
       "      <td>NaN</td>\n",
       "      <td>NaN</td>\n",
       "      <td>0</td>\n",
       "      <td>6</td>\n",
       "      <td>2010</td>\n",
       "      <td>WD</td>\n",
       "      <td>Normal</td>\n",
       "      <td>189000</td>\n",
       "    </tr>\n",
       "  </tbody>\n",
       "</table>\n",
       "<p>10 rows × 82 columns</p>\n",
       "</div>"
      ],
      "text/plain": [
       "   Order        PID  MS SubClass MS Zoning  Lot Frontage  Lot Area Street  \\\n",
       "0      1  526301100           20        RL         141.0     31770   Pave   \n",
       "1      2  526350040           20        RH          80.0     11622   Pave   \n",
       "2      3  526351010           20        RL          81.0     14267   Pave   \n",
       "3      4  526353030           20        RL          93.0     11160   Pave   \n",
       "4      5  527105010           60        RL          74.0     13830   Pave   \n",
       "5      6  527105030           60        RL          78.0      9978   Pave   \n",
       "6      7  527127150          120        RL          41.0      4920   Pave   \n",
       "7      8  527145080          120        RL          43.0      5005   Pave   \n",
       "8      9  527146030          120        RL          39.0      5389   Pave   \n",
       "9     10  527162130           60        RL          60.0      7500   Pave   \n",
       "\n",
       "  Alley Lot Shape Land Contour  ... Pool Area Pool QC  Fence Misc Feature  \\\n",
       "0   NaN       IR1          Lvl  ...         0     NaN    NaN          NaN   \n",
       "1   NaN       Reg          Lvl  ...         0     NaN  MnPrv          NaN   \n",
       "2   NaN       IR1          Lvl  ...         0     NaN    NaN         Gar2   \n",
       "3   NaN       Reg          Lvl  ...         0     NaN    NaN          NaN   \n",
       "4   NaN       IR1          Lvl  ...         0     NaN  MnPrv          NaN   \n",
       "5   NaN       IR1          Lvl  ...         0     NaN    NaN          NaN   \n",
       "6   NaN       Reg          Lvl  ...         0     NaN    NaN          NaN   \n",
       "7   NaN       IR1          HLS  ...         0     NaN    NaN          NaN   \n",
       "8   NaN       IR1          Lvl  ...         0     NaN    NaN          NaN   \n",
       "9   NaN       Reg          Lvl  ...         0     NaN    NaN          NaN   \n",
       "\n",
       "  Misc Val Mo Sold Yr Sold Sale Type  Sale Condition  SalePrice  \n",
       "0        0       5    2010       WD           Normal     215000  \n",
       "1        0       6    2010       WD           Normal     105000  \n",
       "2    12500       6    2010       WD           Normal     172000  \n",
       "3        0       4    2010       WD           Normal     244000  \n",
       "4        0       3    2010       WD           Normal     189900  \n",
       "5        0       6    2010       WD           Normal     195500  \n",
       "6        0       4    2010       WD           Normal     213500  \n",
       "7        0       1    2010       WD           Normal     191500  \n",
       "8        0       3    2010       WD           Normal     236500  \n",
       "9        0       6    2010       WD           Normal     189000  \n",
       "\n",
       "[10 rows x 82 columns]"
      ]
     },
     "execution_count": 43,
     "metadata": {},
     "output_type": "execute_result"
    }
   ],
   "source": [
    "# Load the dataset\n",
    "ames = pd.read_csv(\"anova/AmesHousing.csv\")\n",
    "ames.head(10)"
   ]
  },
  {
   "cell_type": "markdown",
   "id": "fe2a3609-a0a1-4719-80a1-e7cd673ee790",
   "metadata": {},
   "source": [
    "Wow, that's a lot of columns to work with! We are only interested in two columns, namely, `\"Neighborhood\"` and `\"SalePrice\"`. Let's go ahead and index into these two columns and update our `ames` DataFrame."
   ]
  },
  {
   "cell_type": "code",
   "execution_count": 44,
   "id": "d59b27da-65ab-49eb-8e78-d378b8ccc90b",
   "metadata": {},
   "outputs": [
    {
     "data": {
      "text/html": [
       "<div>\n",
       "<style scoped>\n",
       "    .dataframe tbody tr th:only-of-type {\n",
       "        vertical-align: middle;\n",
       "    }\n",
       "\n",
       "    .dataframe tbody tr th {\n",
       "        vertical-align: top;\n",
       "    }\n",
       "\n",
       "    .dataframe thead th {\n",
       "        text-align: right;\n",
       "    }\n",
       "</style>\n",
       "<table border=\"1\" class=\"dataframe\">\n",
       "  <thead>\n",
       "    <tr style=\"text-align: right;\">\n",
       "      <th></th>\n",
       "      <th>Neighborhood</th>\n",
       "      <th>SalePrice</th>\n",
       "    </tr>\n",
       "  </thead>\n",
       "  <tbody>\n",
       "    <tr>\n",
       "      <th>0</th>\n",
       "      <td>NAmes</td>\n",
       "      <td>215000</td>\n",
       "    </tr>\n",
       "    <tr>\n",
       "      <th>1</th>\n",
       "      <td>NAmes</td>\n",
       "      <td>105000</td>\n",
       "    </tr>\n",
       "    <tr>\n",
       "      <th>2</th>\n",
       "      <td>NAmes</td>\n",
       "      <td>172000</td>\n",
       "    </tr>\n",
       "    <tr>\n",
       "      <th>3</th>\n",
       "      <td>NAmes</td>\n",
       "      <td>244000</td>\n",
       "    </tr>\n",
       "    <tr>\n",
       "      <th>4</th>\n",
       "      <td>Gilbert</td>\n",
       "      <td>189900</td>\n",
       "    </tr>\n",
       "    <tr>\n",
       "      <th>5</th>\n",
       "      <td>Gilbert</td>\n",
       "      <td>195500</td>\n",
       "    </tr>\n",
       "    <tr>\n",
       "      <th>6</th>\n",
       "      <td>StoneBr</td>\n",
       "      <td>213500</td>\n",
       "    </tr>\n",
       "    <tr>\n",
       "      <th>7</th>\n",
       "      <td>StoneBr</td>\n",
       "      <td>191500</td>\n",
       "    </tr>\n",
       "    <tr>\n",
       "      <th>8</th>\n",
       "      <td>StoneBr</td>\n",
       "      <td>236500</td>\n",
       "    </tr>\n",
       "    <tr>\n",
       "      <th>9</th>\n",
       "      <td>Gilbert</td>\n",
       "      <td>189000</td>\n",
       "    </tr>\n",
       "  </tbody>\n",
       "</table>\n",
       "</div>"
      ],
      "text/plain": [
       "  Neighborhood  SalePrice\n",
       "0        NAmes     215000\n",
       "1        NAmes     105000\n",
       "2        NAmes     172000\n",
       "3        NAmes     244000\n",
       "4      Gilbert     189900\n",
       "5      Gilbert     195500\n",
       "6      StoneBr     213500\n",
       "7      StoneBr     191500\n",
       "8      StoneBr     236500\n",
       "9      Gilbert     189000"
      ]
     },
     "metadata": {},
     "output_type": "display_data"
    },
    {
     "data": {
      "text/plain": [
       "(2930, 2)"
      ]
     },
     "execution_count": 44,
     "metadata": {},
     "output_type": "execute_result"
    }
   ],
   "source": [
    "# Select relevant columns\n",
    "ames = ames[[\"Neighborhood\", \"SalePrice\"]]\n",
    "display(ames.head(10))\n",
    "ames.shape"
   ]
  },
  {
   "cell_type": "markdown",
   "id": "3b6a8083-6004-4bbb-8484-f7685e0197f7",
   "metadata": {},
   "source": [
    "*COMMENTARY HERE* <br> . <br> ."
   ]
  },
  {
   "cell_type": "code",
   "execution_count": 28,
   "id": "cf5217b6-228b-440a-a0aa-d6277e3856a8",
   "metadata": {},
   "outputs": [
    {
     "data": {
      "text/html": [
       "<div>\n",
       "<style scoped>\n",
       "    .dataframe tbody tr th:only-of-type {\n",
       "        vertical-align: middle;\n",
       "    }\n",
       "\n",
       "    .dataframe tbody tr th {\n",
       "        vertical-align: top;\n",
       "    }\n",
       "\n",
       "    .dataframe thead th {\n",
       "        text-align: right;\n",
       "    }\n",
       "</style>\n",
       "<table border=\"1\" class=\"dataframe\">\n",
       "  <thead>\n",
       "    <tr style=\"text-align: right;\">\n",
       "      <th></th>\n",
       "      <th>Neighborhood</th>\n",
       "      <th>SalePrice</th>\n",
       "    </tr>\n",
       "  </thead>\n",
       "  <tbody>\n",
       "    <tr>\n",
       "      <th>0</th>\n",
       "      <td>NAmes</td>\n",
       "      <td>215000</td>\n",
       "    </tr>\n",
       "    <tr>\n",
       "      <th>1</th>\n",
       "      <td>NAmes</td>\n",
       "      <td>105000</td>\n",
       "    </tr>\n",
       "    <tr>\n",
       "      <th>2</th>\n",
       "      <td>NAmes</td>\n",
       "      <td>172000</td>\n",
       "    </tr>\n",
       "    <tr>\n",
       "      <th>3</th>\n",
       "      <td>NAmes</td>\n",
       "      <td>244000</td>\n",
       "    </tr>\n",
       "    <tr>\n",
       "      <th>4</th>\n",
       "      <td>Gilbert</td>\n",
       "      <td>189900</td>\n",
       "    </tr>\n",
       "    <tr>\n",
       "      <th>...</th>\n",
       "      <td>...</td>\n",
       "      <td>...</td>\n",
       "    </tr>\n",
       "    <tr>\n",
       "      <th>2925</th>\n",
       "      <td>Mitchel</td>\n",
       "      <td>142500</td>\n",
       "    </tr>\n",
       "    <tr>\n",
       "      <th>2926</th>\n",
       "      <td>Mitchel</td>\n",
       "      <td>131000</td>\n",
       "    </tr>\n",
       "    <tr>\n",
       "      <th>2927</th>\n",
       "      <td>Mitchel</td>\n",
       "      <td>132000</td>\n",
       "    </tr>\n",
       "    <tr>\n",
       "      <th>2928</th>\n",
       "      <td>Mitchel</td>\n",
       "      <td>170000</td>\n",
       "    </tr>\n",
       "    <tr>\n",
       "      <th>2929</th>\n",
       "      <td>Mitchel</td>\n",
       "      <td>188000</td>\n",
       "    </tr>\n",
       "  </tbody>\n",
       "</table>\n",
       "<p>2675 rows × 2 columns</p>\n",
       "</div>"
      ],
      "text/plain": [
       "     Neighborhood  SalePrice\n",
       "0           NAmes     215000\n",
       "1           NAmes     105000\n",
       "2           NAmes     172000\n",
       "3           NAmes     244000\n",
       "4         Gilbert     189900\n",
       "...           ...        ...\n",
       "2925      Mitchel     142500\n",
       "2926      Mitchel     131000\n",
       "2927      Mitchel     132000\n",
       "2928      Mitchel     170000\n",
       "2929      Mitchel     188000\n",
       "\n",
       "[2675 rows x 2 columns]"
      ]
     },
     "execution_count": 28,
     "metadata": {},
     "output_type": "execute_result"
    }
   ],
   "source": [
    "# Filter neighborhoods with enough data\n",
    "neighborhood_counts = ames[\"Neighborhood\"].value_counts()\n",
    "selected_neighborhoods = neighborhood_counts[neighborhood_counts > 50].index\n",
    "\n",
    "ames = ames[ames[\"Neighborhood\"].isin(selected_neighborhoods)]\n",
    "ames"
   ]
  },
  {
   "cell_type": "markdown",
   "id": "9b182f34-84d2-4300-b9f6-b553bbcc42a6",
   "metadata": {},
   "source": [
    "---"
   ]
  },
  {
   "cell_type": "markdown",
   "id": "40f4ea4c-6ea1-448d-b0c9-8a1e08f7e530",
   "metadata": {},
   "source": [
    "## 3. Visualizing the Data"
   ]
  },
  {
   "cell_type": "markdown",
   "id": "eade9d9f-7e58-44fe-970a-e0971ef82bab",
   "metadata": {},
   "source": [
    "Before conducting statistical tests, visualizations help us understand the distribution and variance of data across different neighborhoods."
   ]
  },
  {
   "cell_type": "code",
   "execution_count": 31,
   "id": "ecf3a779-de28-47b8-8b66-1f210c4ffd7b",
   "metadata": {},
   "outputs": [
    {
     "data": {
      "image/png": "[encoded data removed]",
      "text/plain": [
       "<Figure size 1200x600 with 1 Axes>"
      ]
     },
     "metadata": {},
     "output_type": "display_data"
    }
   ],
   "source": [
    "plt.figure(figsize=(12, 6))\n",
    "sns.boxplot(data=ames, x=\"Neighborhood\", y=\"SalePrice\")\n",
    "plt.xticks(rotation=45)\n",
    "plt.title(\"Distribution of House Prices Across Neighborhoods\")\n",
    "plt.show()"
   ]
  },
  {
   "cell_type": "markdown",
   "id": "cda64225-10c6-4ff1-9873-d740e70ac04d",
   "metadata": {},
   "source": [
    "---"
   ]
  },
  {
   "cell_type": "markdown",
   "id": "e2e47d30-896d-43dc-9f3c-e287249c63a1",
   "metadata": {},
   "source": [
    "## 4. Performing ANOVA"
   ]
  },
  {
   "cell_type": "markdown",
   "id": "fc2ff3c8-af88-4114-9373-2ea33c503ac8",
   "metadata": {},
   "source": [
    "We will first try manually computing ANOVA. This will allow us to gain a deeper understanding of its components, in contrast to using a built-in function."
   ]
  },
  {
   "cell_type": "code",
   "execution_count": 45,
   "id": "1c90d4fd-c6c0-4798-b301-7f4c4b9ac917",
   "metadata": {
    "scrolled": true
   },
   "outputs": [
    {
     "name": "stdout",
     "output_type": "stream",
     "text": [
      "F-statistic: 144.40, p-value: 0.00000\n"
     ]
    }
   ],
   "source": [
    "# Step 1: Compute Group Means and Overall Mean\n",
    "group_means = ames.groupby(\"Neighborhood\")[\"SalePrice\"].mean()\n",
    "overall_mean = ames[\"SalePrice\"].mean()\n",
    "\n",
    "# Step 2: Compute Between-Group Sum of Squares (SSB)\n",
    "ssb = sum(ames.groupby(\"Neighborhood\").size() * (group_means - overall_mean) ** 2)\n",
    "\n",
    "# Step 3: Compute Within-Group Sum of Squares (SSW)\n",
    "ssw = sum(sum((ames[ames[\"Neighborhood\"] == group][\"SalePrice\"] - group_mean) ** 2)\n",
    "          for group, group_mean in group_means.items())\n",
    "\n",
    "# Step 4: Compute Degrees of Freedom\n",
    "ames_between = len(group_means) - 1\n",
    "ames_within = len(ames) - len(group_means)\n",
    "\n",
    "# Step 5: Compute Mean Squares\n",
    "msb = ssb / ames_between\n",
    "msw = ssw / ames_within\n",
    "\n",
    "# Step 6: Compute F-Statistic\n",
    "f_statistic = msb / msw\n",
    "\n",
    "# Step 7: Find p-value\n",
    "p_value = 1 - stats.f.cdf(f_statistic, ames_between, ames_within)\n",
    "\n",
    "print(f\"F-statistic: {f_statistic:.2f}, p-value: {p_value:.5f}\")"
   ]
  },
  {
   "cell_type": "markdown",
   "id": "258834f2-1f23-45c2-925b-78b40e82d68f",
   "metadata": {},
   "source": [
    "---"
   ]
  },
  {
   "cell_type": "markdown",
   "id": "aa2ea043-0164-427b-ac82-02f5a20f2281",
   "metadata": {},
   "source": [
    "## 5. Sanity Check Using SciPy"
   ]
  },
  {
   "cell_type": "markdown",
   "id": "2f2281aa-c695-4e13-9215-a17c00b93017",
   "metadata": {},
   "source": [
    "Now that we have computed the F-statistic for ANOVA manually, let us use a pre-packaged function from `SciPy` called `f_oneway` to sanity check our results."
   ]
  },
  {
   "cell_type": "code",
   "execution_count": 46,
   "id": "d5177592-358a-4373-a323-b979dd6c78a5",
   "metadata": {},
   "outputs": [
    {
     "name": "stdout",
     "output_type": "stream",
     "text": [
      "Sanity Check - SciPy F-statistic: 215.65, p-value: 0.00000\n"
     ]
    }
   ],
   "source": [
    "anova_result = stats.f_oneway(*[ames[ames[\"Neighborhood\"] == n][\"SalePrice\"] for n in selected_neighborhoods])\n",
    "print(f\"Sanity Check - SciPy F-statistic: {anova_result.statistic:.2f}, p-value: {anova_result.pvalue:.5f}\")"
   ]
  },
  {
   "cell_type": "markdown",
   "id": "dce7e2fb-8793-476a-bcfc-242278fe99c6",
   "metadata": {},
   "source": [
    "---"
   ]
  },
  {
   "cell_type": "markdown",
   "id": "a3c4bb55-014d-4c99-a8b0-7b7fe50700cb",
   "metadata": {},
   "source": [
    "## 6. Non-Parametric Test: Kruskal-Wallis Test"
   ]
  },
  {
   "cell_type": "markdown",
   "id": "292bcb1a-9534-45d2-a9ce-9544484275c4",
   "metadata": {},
   "source": [
    "Let us say that the original assumptions we made at the beginning of the notebook were false. This would be a problem, as our results from the ANOVA test would then be invalid! Let us use the Kruskal-Wallis Test, which is a non-parametric test that compares median differences."
   ]
  },
  {
   "cell_type": "code",
   "execution_count": 47,
   "id": "8c7154eb-0b11-463f-a032-b73ea3522c1a",
   "metadata": {},
   "outputs": [
    {
     "name": "stdout",
     "output_type": "stream",
     "text": [
      "Kruskal-Wallis Test Statistic: 1601.06, p-value: 0.00000\n"
     ]
    }
   ],
   "source": [
    "kruskal_result = stats.kruskal(*[ames[ames[\"Neighborhood\"] == n][\"SalePrice\"] for n in selected_neighborhoods])\n",
    "print(f\"Kruskal-Wallis Test Statistic: {kruskal_result.statistic:.2f}, p-value: {kruskal_result.pvalue:.5f}\")"
   ]
  },
  {
   "cell_type": "markdown",
   "id": "f908b607-f7ac-418f-9830-b0151a96717d",
   "metadata": {},
   "source": [
    "---"
   ]
  },
  {
   "cell_type": "markdown",
   "id": "6690737d-3f4c-44f6-a08e-6aea14f2d0f6",
   "metadata": {},
   "source": [
    "## 7. Conclusion"
   ]
  },
  {
   "cell_type": "markdown",
   "id": "dacc0ead-dcf0-4b1a-86a4-8dbc7033878c",
   "metadata": {},
   "source": [
    "Given our p-values in both cases were under 0.05, we reject the null hypothesis. This indicatessignificant price differences between neighborhoods. \n",
    "\n",
    "Note, however, that we should have more rigorously proved the ANOVA assumptions to be true at the start of the notebook, though this was abstracted away for the sake of this notebook.\n",
    "\n",
    "We also applied the Kruskal-Wallis Test, which proves as a useful Non-Paramteric Test when the assumptions regarding normality and equal variance are violated for ANOVA.\n",
    "\n",
    "We encourage you to explore further with the groundwork laid out with this notebook. You can try running ANOVA on different features and explore more tests to determine what neighborhoods had more signficant differences in sale price against other neighborhoods."
   ]
  },
  {
   "cell_type": "markdown",
   "id": "e2e2b722-40b4-4945-841a-9976e933b2a7",
   "metadata": {},
   "source": [
    "---"
   ]
  },
  {
   "cell_type": "markdown",
   "id": "6a90103b-8189-4ba3-b4db-3a3bcf528b41",
   "metadata": {},
   "source": [
    "**Woohoo! You have completed this notebook! 🚀**|"
   ]
  }
 ],
 "metadata": {
  "kernelspec": {
   "display_name": "Python 3 (ipykernel)",
   "language": "python",
   "name": "python3"
  },
  "language_info": {
   "codemirror_mode": {
    "name": "ipython",
    "version": 3
   },
   "file_extension": ".py",
   "mimetype": "text/x-python",
   "name": "python",
   "nbconvert_exporter": "python",
   "pygments_lexer": "ipython3",
   "version": "3.11.11"
  }
 },
 "nbformat": 4,
 "nbformat_minor": 5
}
