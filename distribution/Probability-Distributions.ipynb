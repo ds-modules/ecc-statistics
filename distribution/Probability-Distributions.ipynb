{
 "cells": [
  {
   "cell_type": "code",
   "execution_count": 4,
   "id": "e35d448c-3026-4f72-9abf-38f35f6e00e1",
   "metadata": {},
   "outputs": [],
   "source": [
    "# Run the cell by clicking 'shift' + 'enter'\n",
    "\n",
    "from scipy import stats\n",
    "from functions.interact import *\n",
    "from functions.utils import *"
   ]
  },
  {
   "cell_type": "markdown",
   "id": "cf6e0d26-3413-4f54-a800-a7d28153d5e7",
   "metadata": {},
   "source": [
    "### Table of Contents:\n",
    "- Discrete Probability Distribution\n",
    "- Interacting with Distribution Parameters\n",
    "    - Bernoulli\n",
    "    - Binomial\n",
    "    - Poisson\n",
    "    - Geometric\n",
    "- Conclusion"
   ]
  },
  {
   "cell_type": "markdown",
   "id": "d67831c1-651b-4490-8f32-283eab9a5fbc",
   "metadata": {},
   "source": [
    "# Discrete Probability Distribution"
   ]
  },
  {
   "cell_type": "markdown",
   "id": "1caf196f-c9b0-4c71-bb68-24f6473a4419",
   "metadata": {},
   "source": [
    "In statistics, discrete probability distribution refers to a distribution where a random variable can take on distinct values (eg. the number of heads in 20 coin flips). At their core, probability distributions are just functions similar to the ones you've seen in calculus:\n",
    "\n",
    "$$ f(x) = x^2 $$\n",
    "\n",
    "These functions, however, are defined by their parameters: the mean and variance"
   ]
  },
  {
   "cell_type": "markdown",
   "id": "7ab08fa0-df2c-4778-a6c6-8424c46a4129",
   "metadata": {},
   "source": [
    "When describing a random variable in terms of its distribution, we usually specify what kind of distribution it follows, its mean and standard deviation. Take for a example the normal distribution below:\n",
    "\n",
    "$$ f(\\mu, \\sigma) = \\mathcal{N}(\\mu, \\sigma) $$\n",
    "\n",
    "Using the information above, we would specify that our variable follows a Normal Distribution with mean µ and standard Deviation (SD) σ."
   ]
  },
  {
   "cell_type": "markdown",
   "id": "497f165b-6189-4040-8af8-cf39e7998eb0",
   "metadata": {},
   "source": [
    "## Understanding Probability Mass Function (PMF) "
   ]
  },
  {
   "cell_type": "markdown",
   "id": "2cd0f566-321d-4a83-94d8-4e00624ff9a1",
   "metadata": {},
   "source": [
    "Before we dive deep into distributions below, it is important to fully understand the underlying mechanics behind them. When dealing with discrete probability, we will be using probability mass function (pmf). Probability Mass Function is defined as a function that gives the probability that a discrete random variable is exactly equal to some distrinct value. \n",
    "\n",
    "You may be wondering how this differs from Probability Density Function (PDF). One might say that unlike PMF which deals with discrete random variable, Probability Density Function deals with continuous random variable. To quote a response from [Stack Exchange](https://math.stackexchange.com/questions/23293/probability-density-function-vs-probability-mass-function#comment50446_23294):\n",
    "\n",
    "*Think of the discrete distribution as having a mass at each point, where the probability of that point is how much of the total mass is there. Then the continuous case is linear density, where the mass is spread over an interval.*"
   ]
  },
  {
   "cell_type": "markdown",
   "id": "f9b4bb74-f86a-43f1-b504-6716f86b673a",
   "metadata": {},
   "source": [
    "# Interacting with Distribution Parameters"
   ]
  },
  {
   "cell_type": "markdown",
   "id": "d3082ff7-9836-453a-8004-78dad60bed94",
   "metadata": {},
   "source": [
    "## Bernoulli"
   ]
  },
  {
   "cell_type": "markdown",
   "id": "9d034927-b81a-4203-9c37-3170d966c581",
   "metadata": {},
   "source": [
    "A Bernoulli function represents a Bernoulli distribution, which is a discrete probability distribution for a single trial experiment (eg. one flip of a coin and the probability of getting a head) with only two possible outcomes:\n",
    "- Success (1) with probability  p \n",
    "- Failure (0) with probability  1 - p                                                                                        "
   ]
  },
  {
   "cell_type": "markdown",
   "id": "7516c7f4-148f-44d0-a11b-e8c38714825a",
   "metadata": {},
   "source": [
    "The probability mass function for bernoulli is:\n",
    "                             \n",
    "\\begin{cases} \n",
    "    1 - p, & \\text{if } k = 0 \\\\\n",
    "    p, & \\text{if } k = 1\n",
    "\\end{cases}\n",
    "    \n",
    "$\\text{for } k \\in \\{0,1\\}, \\quad 0 \\leq p \\leq 1.$"
   ]
  },
  {
   "cell_type": "markdown",
   "id": "9fa82892-b732-4e0e-86ef-bc1670a49b17",
   "metadata": {},
   "source": [
    "Note: The Bernoulli function only takes a single parameter p which represents the probability of success. Below, think of Bernoulli(p) as P(Success)."
   ]
  },
  {
   "cell_type": "code",
   "execution_count": 5,
   "id": "b375e24a-eb66-4c8d-838b-6eb325655456",
   "metadata": {},
   "outputs": [
    {
     "data": {
      "application/vnd.jupyter.widget-view+json": {
       "model_id": "0a760e2e3d1f49e5814c44bdf504dfcb",
       "version_major": 2,
       "version_minor": 0
      },
      "text/plain": [
       "interactive(children=(FloatSlider(value=0.5, description='p', max=1.0, step=0.05), IntSlider(value=1, descript…"
      ]
     },
     "metadata": {},
     "output_type": "display_data"
    }
   ],
   "source": [
    "bernoulli() # bernoulli(p)"
   ]
  },
  {
   "cell_type": "markdown",
   "id": "88265708-2b80-4829-9eca-7121cff27195",
   "metadata": {},
   "source": [
    "## Binomial"
   ]
  },
  {
   "cell_type": "markdown",
   "id": "c29e3e05-eae4-4008-a1e1-d047d696837b",
   "metadata": {},
   "source": [
    "Now say your friend decides to flip a coin 20 times because they want to know have many heads they'll get, this sequence of outcomes is known as the Bernoulli process. To obtain the number of successes (# of heads in 20 flips), we will be looking at the Binomial Distribution. The Binomial function takes two parameters: \n",
    "- n - number of trials\n",
    "- p - probability of success in each trial\n",
    "\n",
    "The probability mass function for binomial is:"
   ]
  },
  {
   "cell_type": "markdown",
   "id": "4d846d53-f5b3-4904-b7e2-c5cf1893f5cf",
   "metadata": {},
   "source": [
    "$$ \n",
    "f(k, n, p) = P(X = k) = \\binom{n}{k} p^k (1 - p)^{n - k}\n",
    "$$\n",
    "\n",
    "where \n",
    "$$\n",
    "\\binom{n}{k} = \\frac{n!}{k!(n-k)!}\n",
    "$$\n",
    "\n",
    "is a binomial coefficent which counts the number of ways to choose the positions of the k successes among the n trials. Note: k is not a parameter but rather it represents a random variable for the number of success observed in n trials (below, it is X=x)."
   ]
  },
  {
   "cell_type": "code",
   "execution_count": 6,
   "id": "f5056bc5-5aae-4325-818e-d5cf6097e481",
   "metadata": {},
   "outputs": [
    {
     "data": {
      "application/vnd.jupyter.widget-view+json": {
       "model_id": "61289e314f6c4f889feb1a65b802bdbd",
       "version_major": 2,
       "version_minor": 0
      },
      "text/plain": [
       "interactive(children=(IntSlider(value=8, description='n', max=20, min=1), FloatSlider(value=0.1666666666666666…"
      ]
     },
     "metadata": {},
     "output_type": "display_data"
    }
   ],
   "source": [
    "binomial() # binomial(n, p)"
   ]
  },
  {
   "cell_type": "markdown",
   "id": "8c8f1478-40f2-4b52-b48e-ad9eec4edbb0",
   "metadata": {},
   "source": [
    "## Poisson"
   ]
  },
  {
   "cell_type": "markdown",
   "id": "621cf4ef-40e2-4aaf-b7a6-0054ce8a5e0b",
   "metadata": {},
   "source": [
    "You work at a busy hospital emergency room where ambulances arrive at an average rate of 5 per hour. Two things you notice are that each ambulance's arrival does not have an effect on when the next one will arive (independent) and that their intervals are not evenly spaced or predictable (random). A Poisson distribution can model the probability of the hospital receiving exactly 7 ambulances in an hour. It can also predict the likelihood of having 2 or fewer arrivals in a given timeframe in order to help staff prepare and come up with effective strategies for delagating shifts.\n",
    "\n",
    "As suggested in the example above, under the Poisson distribution, we can find out the probability of a given number of events occuring in a fixed interval of time. \n",
    "\n",
    "It takes only one parameter, lambda (λ), which is the average number of events occuring in an interval of time or space. In our hospital scenario, λ = 5. The probability mass function is given by:\n",
    "\n",
    "$$\n",
    "f(k; \\lambda) = \\Pr(X = k) = \\frac{\\lambda^k e^{-\\lambda}}{k!}\n",
    "$$\n",
    "\n",
    "where k is the number of occurence, e is [Euler's Number](https://en.wikipedia.org/wiki/E_(mathematical_constant)), and k! is the factorial."
   ]
  },
  {
   "cell_type": "code",
   "execution_count": 7,
   "id": "f800bddb-014b-4273-863a-1937f8b40488",
   "metadata": {},
   "outputs": [
    {
     "data": {
      "application/vnd.jupyter.widget-view+json": {
       "model_id": "58cbe26d850341bc99331388848e9e64",
       "version_major": 2,
       "version_minor": 0
      },
      "text/plain": [
       "interactive(children=(IntSlider(value=3, description='λ', max=40, min=1), IntSlider(value=2, description='k', …"
      ]
     },
     "metadata": {},
     "output_type": "display_data"
    }
   ],
   "source": [
    "poisson()"
   ]
  },
  {
   "cell_type": "markdown",
   "id": "baa1a475-f096-42a0-8688-adb401091066",
   "metadata": {},
   "source": [
    "## Geometric"
   ]
  },
  {
   "cell_type": "markdown",
   "id": "16983ad9-c50d-40d5-9619-3c94f3b3a220",
   "metadata": {},
   "source": [
    "Now, imagine you work as a customer service specialist and your team receives thousands of calls a day. Your manager shared the team's performance data: the probability of an agent solving a single customer's refund issue on the first try is 44%. You know that not every call can be successfully resolved because some require multiple interactions. \n",
    "\n",
    "In the scenario above, a geometric distribution can help you model the probability of requiring exactly 'k' calls before the first success. In other words, each call (event) is a Bernoulli trial for a single customer. Some questions you might ask are:\n",
    "- What is the probability that your coworker Elizabeth will resolve an issue on the 3rd attempt?\n",
    "- Given p = 0.50, how many attempts would it likely take to solve a customer's issue at a 30% probability.\n",
    "\n",
    "By using the Geometric Probability Mass Function (PMF), we can predict how often issues require multiple calls in order to reduce resolution time for certain cases.  \n",
    "\n",
    "$$\n",
    "P(X = k) = (1 - p)^{k-1} p, \\quad k = 1, 2, 3, \\dots\n",
    "$$\n",
    "\n",
    "Where P(X=k) is the probability that the first success occurs on the k-th trial.\n",
    "\n",
    "### Memorylessness Property ###\n",
    "\n",
    "The probability of waiting n more trials for success does not depend on how many failures have already occured as each trial has to be independent. \n",
    "\n",
    "And lastly, each call attempt (trial) is for a single customer. If we're tracking multiple different customers calling about the same issue, then each call would be a new and independent event. Geometric distribution would not apply here."
   ]
  },
  {
   "cell_type": "markdown",
   "id": "4d8fd130-c867-455a-b133-6d39d898fe85",
   "metadata": {},
   "source": [
    "The Geometric Distribution has one parameter p, which is the probability of success in a single trial."
   ]
  },
  {
   "cell_type": "code",
   "execution_count": 8,
   "id": "430f1221-b564-498f-9d95-10265bd625d6",
   "metadata": {},
   "outputs": [
    {
     "data": {
      "application/vnd.jupyter.widget-view+json": {
       "model_id": "67f39aa913c14b6f991bd30dc2a6f416",
       "version_major": 2,
       "version_minor": 0
      },
      "text/plain": [
       "interactive(children=(FloatSlider(value=0.5, description='p', max=1.0, min=0.01, step=0.02), IntSlider(value=3…"
      ]
     },
     "metadata": {},
     "output_type": "display_data"
    }
   ],
   "source": [
    "geometric()"
   ]
  },
  {
   "cell_type": "markdown",
   "id": "25198c92-2ba9-4b39-b3a7-8fb5dab853ff",
   "metadata": {},
   "source": [
    "# Conclusion"
   ]
  },
  {
   "cell_type": "markdown",
   "id": "b8a3ed01-bbcf-45fe-ad05-0529090c5c50",
   "metadata": {},
   "source": [
    "In this notebook, you learned various scenarious in which we can employ the Bernoulli, Binomial, Poisson, or Geometric Distribution. There are several others you can utilize depending on what you are trying to model or predict. The probability mass function allows us to obtain the probability that a discrete random variable is exactly equal to some value (eg. using Poisson to check the probability that a restaurant gets 12 customers in the next hour). You also iteracted with parameters within each function to see how the distribution behaves. \n",
    "\n",
    "Congratulations on making it to the end! "
   ]
  }
 ],
 "metadata": {
  "kernelspec": {
   "display_name": "Python 3 (ipykernel)",
   "language": "python",
   "name": "python3"
  },
  "language_info": {
   "codemirror_mode": {
    "name": "ipython",
    "version": 3
   },
   "file_extension": ".py",
   "mimetype": "text/x-python",
   "name": "python",
   "nbconvert_exporter": "python",
   "pygments_lexer": "ipython3",
   "version": "3.11.11"
  }
 },
 "nbformat": 4,
 "nbformat_minor": 5
}
